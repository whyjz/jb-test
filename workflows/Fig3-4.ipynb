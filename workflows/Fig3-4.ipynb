{
 "cells": [
  {
   "cell_type": "code",
   "execution_count": null,
   "id": "e65397a8-26db-4905-aa53-1f25645a3bbc",
   "metadata": {},
   "outputs": [],
   "source": []
  },
  {
   "cell_type": "code",
   "execution_count": 25,
   "id": "f91b3805-ca92-4be2-b51a-3d206bf0aa76",
   "metadata": {},
   "outputs": [],
   "source": [
    "%%bash\n",
    "\n",
    "if [ ! -d ../data/Felikson2021/ ]; then\n",
    "    wget https://zenodo.org/record/4284759/files/netcdfs.zip -P ../data/Felikson2021/ --no-verbose\n",
    "    unzip ../data/Felikson2021/netcdfs.zip -d ../data/Felikson2021/\n",
    "    rm -rf ../data/Felikson2021/netcdfs.zip\n",
    "fi"
   ]
  },
  {
   "cell_type": "code",
   "execution_count": null,
   "id": "6f5da1ea-15aa-44cf-9e45-1038708c2977",
   "metadata": {},
   "outputs": [],
   "source": []
  },
  {
   "cell_type": "code",
   "execution_count": 29,
   "id": "3ae900fe-5258-4349-bf84-bda41505ffda",
   "metadata": {},
   "outputs": [],
   "source": [
    "%%bash\n",
    "\n",
    "if [ ! -f ../data/GRE_G0240_1998_v.tif ]; then\n",
    "    wget http://www.geo.cornell.edu/eas/gstudent/wz278/paperdraft2021/GRE_G0240_1998_v.tif -P ../data/ --no-verbose\n",
    "    wget http://www.geo.cornell.edu/eas/gstudent/wz278/paperdraft2021/GRE_G0240_diff-2018-1998_v.tif -P ../data/ --no-verbose\n",
    "fi"
   ]
  },
  {
   "cell_type": "code",
   "execution_count": 3,
   "id": "a21459d2-9a79-4a74-8723-6bda5d11382b",
   "metadata": {},
   "outputs": [
    {
     "name": "stdout",
     "output_type": "stream",
     "text": [
      "Obtaining file:///home/jovyan/Projects/Github/pejzero\n",
      "Requirement already satisfied: numpy in /home/jovyan/.conda/envs/jme/lib/python3.8/site-packages (from pejzero==0.1.0) (1.21.1)\n",
      "Requirement already satisfied: scipy in /home/jovyan/.conda/envs/jme/lib/python3.8/site-packages (from pejzero==0.1.0) (1.6.3)\n",
      "Installing collected packages: pejzero\n",
      "  Running setup.py develop for pejzero\n",
      "Successfully installed pejzero\n"
     ]
    }
   ],
   "source": [
    "!pip install -e ../"
   ]
  },
  {
   "cell_type": "code",
   "execution_count": 1,
   "id": "6c57a54a-549b-4415-bb99-4c00c0ca5575",
   "metadata": {},
   "outputs": [],
   "source": [
    "import pejzero"
   ]
  },
  {
   "cell_type": "code",
   "execution_count": null,
   "id": "5a4a920c-d1ee-4563-b34e-3aeb61e702bc",
   "metadata": {},
   "outputs": [],
   "source": [
    "import pjgris\n",
    "# from pjgris import my_savgol_filter, savgol_smoothing, pe_corefun, cal_pej0_for_each_flowline, cal_avg_for_each_basin\n",
    "# import rasterio\n",
    "# import utils\n",
    "from netCDF4 import Dataset\n",
    "# import numpy as np\n",
    "# import matplotlib.pyplot as plt\n",
    "# from pathlib import Path"
   ]
  },
  {
   "cell_type": "code",
   "execution_count": null,
   "id": "df6e8b16-bc8c-42f0-b87c-7bdaa87c811d",
   "metadata": {},
   "outputs": [],
   "source": []
  },
  {
   "cell_type": "code",
   "execution_count": 30,
   "id": "d154f29d-1053-45df-8b1f-7036e40d3333",
   "metadata": {},
   "outputs": [],
   "source": [
    "netcdf_dir = '../data/Felikson2021'\n",
    "glacier_file = netcdf_dir + '/glacier0207.nc'\n",
    "speed_file = '../data/GRE_G0240_1998_v.tif'\n",
    "vdiff_file = '../data/GRE_G0240_diff-2018-1998_v.tif'"
   ]
  },
  {
   "cell_type": "code",
   "execution_count": null,
   "id": "21370ef8-90ad-425e-ae18-9bd12438c6b5",
   "metadata": {},
   "outputs": [],
   "source": [
    "ds = Dataset(glacier_file, 'r')\n",
    "flowline_groups, _ = utils.get_flowline_groups(ds)\n",
    "primary_flowlines = [i for i in flowline_groups if 'iter' not in i.path]\n",
    "\n",
    "speed_data = rasterio.open(speed_file)\n",
    "vdiff_data = rasterio.open(vdiff_file)"
   ]
  }
 ],
 "metadata": {
  "kernelspec": {
   "display_name": "Python [conda env:.conda-jme]",
   "language": "python",
   "name": "conda-env-.conda-jme-py"
  },
  "language_info": {
   "codemirror_mode": {
    "name": "ipython",
    "version": 3
   },
   "file_extension": ".py",
   "mimetype": "text/x-python",
   "name": "python",
   "nbconvert_exporter": "python",
   "pygments_lexer": "ipython3",
   "version": "3.8.10"
  }
 },
 "nbformat": 4,
 "nbformat_minor": 5
}
