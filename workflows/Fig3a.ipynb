{
 "cells": [
  {
   "cell_type": "code",
   "execution_count": 1,
   "id": "1aa5276c-186b-4b6e-b86c-0f6396f0cc49",
   "metadata": {},
   "outputs": [],
   "source": [
    "import matplotlib.pyplot as plt\n",
    "from matplotlib import cm\n",
    "import numpy as np\n",
    "from matplotlib.colors import ListedColormap, LinearSegmentedColormap\n",
    "import seaborn as sns\n",
    "import pandas as pd"
   ]
  },
  {
   "cell_type": "code",
   "execution_count": 15,
   "id": "0ba66b4a-de38-4a91-8df0-abee9d0f4d00",
   "metadata": {},
   "outputs": [],
   "source": [
    "colors = [\"darkorange\", \"gold\", \"lawngreen\", \"lightseagreen\"]\n",
    "# cmap1 = LinearSegmentedColormap.from_list(\"mycmap\", colors)\n",
    "nodes = [0.0, 0.4, 0.8, 1.0]\n",
    "cmap2 = LinearSegmentedColormap.from_list(\"mycmap\", list(zip(nodes, colors)))"
   ]
  },
  {
   "cell_type": "code",
   "execution_count": 16,
   "id": "d70425df-0c0f-43c2-973b-194cf9103602",
   "metadata": {},
   "outputs": [
    {
     "data": {
      "image/png": "[encoded data removed]",
      "text/html": [
       "<div style=\"vertical-align: middle;\"><strong>mycmap</strong> </div><div class=\"cmap\"><img alt=\"mycmap colormap\" title=\"mycmap\" style=\"border: 1px solid #555;\" src=\"data:image/png;base64,iVBORw0KGgoAAAANSUhEUgAAAgAAAABACAYAAABsv8+/AAAAFXRFWHRUaXRsZQBteWNtYXAgY29sb3JtYXBbv6KmAAAAG3RFWHREZXNjcmlwdGlvbgBteWNtYXAgY29sb3JtYXASKLpCAAAAMHRFWHRBdXRob3IATWF0cGxvdGxpYiB2My40LjIsIGh0dHBzOi8vbWF0cGxvdGxpYi5vcmes1mPdAAAAMnRFWHRTb2Z0d2FyZQBNYXRwbG90bGliIHYzLjQuMiwgaHR0cHM6Ly9tYXRwbG90bGliLm9yZ4Jw/PoAAAGpSURBVHic7dbBboJAFEBRbf38fjPjQmxaDQFqG23uOZsJCPOIaHKP4+MwDl8db9al83/9+bPmvupzPWvuqz7Xs+bO6zQfXv88Y+X89XjaeX5t3x/Pu53zW/MW9n143s59N8/b+h72znv0va/s+19+Z5/3T++XdczrdLo5vqxjnDZdP1b2meZ9xua53+9bmj8W5tzNXb1unrvy/PfPt/f7W5g7n387AAA5AgAAggQAAAQJAAAIEgAAECQAACBIAABAkAAAgCABAABBAgAAggQAAAQJAAAIEgAAECQAACBIAABAkAAAgCABAABBAgAAggQAAAQJAAAIEgAAECQAACBIAABAkAAAgCABAABBAgAAggQAAAQJAAAIEgAAECQAACBIAABAkAAAgCABAABBAgAAggQAAAQJAAAIEgAAECQAACBIAABAkAAAgCABAABBAgAAggQAAAQJAAAIEgAAECQAACBIAABAkAAAgCABAABBAgAAggQAAAQJAAAIEgAAECQAACBIAABAkAAAgCABAABBAgAAggQAAAQJAAAIEgAAECQAACBIAABA0Bld1c77WXy5kQAAAABJRU5ErkJggg==\"></div><div style=\"vertical-align: middle; max-width: 514px; display: flex; justify-content: space-between;\"><div style=\"float: left;\"><div title=\"#ff8c00ff\" style=\"display: inline-block; width: 1em; height: 1em; margin: 0; vertical-align: middle; border: 1px solid #555; background-color: #ff8c00ff;\"></div> under</div><div style=\"margin: 0 auto; display: inline-block;\">bad <div title=\"#00000000\" style=\"display: inline-block; width: 1em; height: 1em; margin: 0; vertical-align: middle; border: 1px solid #555; background-color: #00000000;\"></div></div><div style=\"float: right;\">over <div title=\"#20b2aaff\" style=\"display: inline-block; width: 1em; height: 1em; margin: 0; vertical-align: middle; border: 1px solid #555; background-color: #20b2aaff;\"></div></div>"
      ],
      "text/plain": [
       "<matplotlib.colors.LinearSegmentedColormap at 0x7f38e4c32370>"
      ]
     },
     "execution_count": 16,
     "metadata": {},
     "output_type": "execute_result"
    }
   ],
   "source": [
    "cmap2"
   ]
  },
  {
   "cell_type": "code",
   "execution_count": 17,
   "id": "2b78fe04-6c4e-4dd9-82cf-2f3911b2e0b9",
   "metadata": {},
   "outputs": [
    {
     "data": {
      "text/plain": [
       "array([[0.05882353, 0.38823529, 0.88235294, 1.        ],\n",
       "       [0.67058824, 0.86666667, 0.64313725, 1.        ],\n",
       "       [1.        , 1.        , 0.74901961, 1.        ],\n",
       "       [0.99215686, 0.68235294, 0.38039216, 1.        ],\n",
       "       [0.88627451, 0.25882353, 0.18431373, 1.        ],\n",
       "       [0.98823529, 0.47843137, 0.89411765, 1.        ],\n",
       "       [0.71764706, 0.41568627, 0.92941176, 1.        ],\n",
       "       [0.42352941, 0.        , 0.69019608, 1.        ]])"
      ]
     },
     "execution_count": 17,
     "metadata": {},
     "output_type": "execute_result"
    }
   ],
   "source": [
    "colors = np.array([[15,99,225,255],\n",
    "                   [171,221,164,255],\n",
    "                   [255,255,191,255],\n",
    "                   [253,174,97,255],\n",
    "                   [226,66,47,255],\n",
    "                   [252,122,228,255],\n",
    "                   [183,106,237,255],\n",
    "                   [108,0,176,255]])\n",
    "colors = colors / 255\n",
    "colors                   "
   ]
  },
  {
   "cell_type": "code",
   "execution_count": 18,
   "id": "f0c700ee-6827-4ded-8b4a-f53aefae2685",
   "metadata": {},
   "outputs": [
    {
     "data": {
      "text/plain": [
       "array([0.        , 0.03333333, 0.08333333, 0.10666667, 0.13333333,\n",
       "       0.33333333, 0.66666667, 1.        ])"
      ]
     },
     "execution_count": 18,
     "metadata": {},
     "output_type": "execute_result"
    }
   ],
   "source": [
    "nodes = np.array([0, 100, 250, 320, 400, 1000, 2000, 3000])/3000\n",
    "nodes"
   ]
  },
  {
   "cell_type": "code",
   "execution_count": 19,
   "id": "fafaa0f6-2cd1-4f1b-b257-433758d0d577",
   "metadata": {},
   "outputs": [],
   "source": [
    "cmap3 = LinearSegmentedColormap.from_list(\"mycmap2\", list(zip(nodes, colors)))"
   ]
  },
  {
   "cell_type": "code",
   "execution_count": 20,
   "id": "5ffa0d29-a9d4-427a-8d27-75485c61a11c",
   "metadata": {},
   "outputs": [
    {
     "data": {
      "image/png": "[encoded data removed]",
      "text/html": [
       "<div style=\"vertical-align: middle;\"><strong>mycmap2</strong> </div><div class=\"cmap\"><img alt=\"mycmap2 colormap\" title=\"mycmap2\" style=\"border: 1px solid #555;\" src=\"data:image/png;base64,iVBORw0KGgoAAAANSUhEUgAAAgAAAABACAYAAABsv8+/AAAAFnRFWHRUaXRsZQBteWNtYXAyIGNvbG9ybWFwU7f6KwAAABx0RVh0RGVzY3JpcHRpb24AbXljbWFwMiBjb2xvcm1hcPSZS1IAAAAwdEVYdEF1dGhvcgBNYXRwbG90bGliIHYzLjQuMiwgaHR0cHM6Ly9tYXRwbG90bGliLm9yZ6zWY90AAAAydEVYdFNvZnR3YXJlAE1hdHBsb3RsaWIgdjMuNC4yLCBodHRwczovL21hdHBsb3RsaWIub3JngnD8+gAAAhtJREFUeJzt1sFO6kAYhuG/YDxxoSZ6iV75uQPRqJAoddECoVAp6sLke57NZGbasYObt7l9+N9WVd3dLKsbV1VVdX+72pvv1pdH16+v1lVVdTmfVVXVv1k/9vPh+na+XZ8fXb8cnNO8vlRVVT0/duNTN7b9uFtfVFXV++KtGx+X/bgajPvrH4turKb7nqa5+J357KKfz/v9H86352V8X9Of17bddj+MjnXyuWbic6fOa77598ee+9l5u+ePn/P975x23rm/19/5/b++3+TzNuesu5W2HY41ab8O9mt/fmJ/9/7gvYP3x/Y3Fxv5zvXIe4P7Hb4/dv+v71dn3n94v4PvmHj/4Xqdef+/+v/d/J6zAgDiCAAACCQAACCQAACAQAIAAAIJAAAIJAAAIJAAAIBAAgAAAgkAAAgkAAAgkAAAgEACAAACCQAACCQAACCQAACAQAIAAAIJAAAIJAAAIJAAAIBAAgAAAgkAAAgkAAAgkAAAgEACAAACCQAACCQAACCQAACAQAIAAAIJAAAIJAAAIJAAAIBAAgAAAgkAAAgkAAAgkAAAgEACAAACCQAACCQAACCQAACAQAIAAAIJAAAIJAAAIJAAAIBAAgAAAgkAAAgkAAAgkAAAgEACAAACCQAACCQAACCQAACAQAIAAAIJAAAIJAAAIJAAAIBAAgAAAgkAAAgkAAAgkAAAgEACAAACCQAACCQAACDQJ/TiX6rVUxX8AAAAAElFTkSuQmCC\"></div><div style=\"vertical-align: middle; max-width: 514px; display: flex; justify-content: space-between;\"><div style=\"float: left;\"><div title=\"#0f63e1ff\" style=\"display: inline-block; width: 1em; height: 1em; margin: 0; vertical-align: middle; border: 1px solid #555; background-color: #0f63e1ff;\"></div> under</div><div style=\"margin: 0 auto; display: inline-block;\">bad <div title=\"#00000000\" style=\"display: inline-block; width: 1em; height: 1em; margin: 0; vertical-align: middle; border: 1px solid #555; background-color: #00000000;\"></div></div><div style=\"float: right;\">over <div title=\"#6c00b0ff\" style=\"display: inline-block; width: 1em; height: 1em; margin: 0; vertical-align: middle; border: 1px solid #555; background-color: #6c00b0ff;\"></div></div>"
      ],
      "text/plain": [
       "<matplotlib.colors.LinearSegmentedColormap at 0x7f38e4bfd7f0>"
      ]
     },
     "execution_count": 20,
     "metadata": {},
     "output_type": "execute_result"
    }
   ],
   "source": [
    "cmap3"
   ]
  },
  {
   "cell_type": "code",
   "execution_count": 21,
   "id": "9a5a05b3-d84d-43f8-916e-e0e85dc0e2b7",
   "metadata": {},
   "outputs": [
    {
     "data": {
      "image/png": "[encoded data removed]",
      "text/html": [
       "<div style=\"vertical-align: middle;\"><strong>mycmap4</strong> </div><div class=\"cmap\"><img alt=\"mycmap4 colormap\" title=\"mycmap4\" style=\"border: 1px solid #555;\" src=\"data:image/png;base64,iVBORw0KGgoAAAANSUhEUgAAAgAAAABACAYAAABsv8+/AAAAFnRFWHRUaXRsZQBteWNtYXA0IGNvbG9ybWFwXqmKbAAAABx0RVh0RGVzY3JpcHRpb24AbXljbWFwNCBjb2xvcm1hcPmHOxUAAAAwdEVYdEF1dGhvcgBNYXRwbG90bGliIHYzLjQuMiwgaHR0cHM6Ly9tYXRwbG90bGliLm9yZ6zWY90AAAAydEVYdFNvZnR3YXJlAE1hdHBsb3RsaWIgdjMuNC4yLCBodHRwczovL21hdHBsb3RsaWIub3JngnD8+gAAAhJJREFUeJzt1s1u4jAYhtHPAzNVK/Vie2dzfW3BXZBQJZAmIBaV3nM2xsbOD2LxtL9v/3tV1evzv9o2Pm3b9zLd9/K0r6qqfR2qqmpXx9PYDsP6dL4b97XjyrnpvsVzbXp+6dz+4jrXz9Xho6qqjp/vVVXVx/HjfWH95/3jfPv1Fs4N97lcX7rPaf/weuexz+Zbv/9e79P1w73XmY/9rnPL6/2m/dvfpy+s3/u8P7/33b9nb8OHP9OxncZWu5vWx/n5+/n6eX7bdVvNzl3cb9y/27S+9jzrz3n9edrF7/Hg6974nmvP06sNY03G42y+tL51X+/X1x92n/6g51w7/0vu86j7j/8KACCIAACAQAIAAAIJAAAIJAAAIJAAAIBAAgAAAgkAAAgkAAAgkAAAgEACAAACCQAACCQAACCQAACAQAIAAAIJAAAIJAAAIJAAAIBAAgAAAgkAAAgkAAAgkAAAgEACAAACCQAACCQAACCQAACAQAIAAAIJAAAIJAAAIJAAAIBAAgAAAgkAAAgkAAAgkAAAgEACAAACCQAACCQAACCQAACAQAIAAAIJAAAIJAAAIJAAAIBAAgAAAgkAAAgkAAAgkAAAgEACAAACCQAACCQAACCQAACAQAIAAAIJAAAIJAAAIJAAAIBAAgAAAgkAAAgkAAAgkAAAgEACAAACCQAACCQAACCQAACAQAIAAAJ9ARfkBNSGObO7AAAAAElFTkSuQmCC\"></div><div style=\"vertical-align: middle; max-width: 514px; display: flex; justify-content: space-between;\"><div style=\"float: left;\"><div title=\"#0571b0ff\" style=\"display: inline-block; width: 1em; height: 1em; margin: 0; vertical-align: middle; border: 1px solid #555; background-color: #0571b0ff;\"></div> under</div><div style=\"margin: 0 auto; display: inline-block;\">bad <div title=\"#00000000\" style=\"display: inline-block; width: 1em; height: 1em; margin: 0; vertical-align: middle; border: 1px solid #555; background-color: #00000000;\"></div></div><div style=\"float: right;\">over <div title=\"#8411b1ff\" style=\"display: inline-block; width: 1em; height: 1em; margin: 0; vertical-align: middle; border: 1px solid #555; background-color: #8411b1ff;\"></div></div>"
      ],
      "text/plain": [
       "<matplotlib.colors.LinearSegmentedColormap at 0x7f3928057a60>"
      ]
     },
     "execution_count": 21,
     "metadata": {},
     "output_type": "execute_result"
    }
   ],
   "source": [
    "colors = np.array([[5,113,176,255],\n",
    "                   [171,229,255,255],\n",
    "                   [255,240,189,255],\n",
    "                   [222,130,38,255],\n",
    "                   [202,0,32,255],\n",
    "                   [220,22,177,255],\n",
    "                   [132,17,177,255]])\n",
    "colors = colors / 255\n",
    "nodes = (np.array([-500, -300, 100, 500, 1500, 2500, 3500]) + 500) / 4000\n",
    "cmap4 = LinearSegmentedColormap.from_list(\"mycmap4\", list(zip(nodes, colors)))\n",
    "cmap4"
   ]
  },
  {
   "cell_type": "code",
   "execution_count": 2,
   "id": "9cb7cdb7-24ff-4c74-a126-40391c303cf9",
   "metadata": {},
   "outputs": [
    {
     "data": {
      "text/html": [
       "<div>\n",
       "<style scoped>\n",
       "    .dataframe tbody tr th:only-of-type {\n",
       "        vertical-align: middle;\n",
       "    }\n",
       "\n",
       "    .dataframe tbody tr th {\n",
       "        vertical-align: top;\n",
       "    }\n",
       "\n",
       "    .dataframe thead th {\n",
       "        text-align: right;\n",
       "    }\n",
       "</style>\n",
       "<table border=\"1\" class=\"dataframe\">\n",
       "  <thead>\n",
       "    <tr style=\"text-align: right;\">\n",
       "      <th></th>\n",
       "      <th>$\\frac{P_e}{\\ell}$ (1/m)</th>\n",
       "      <th>$J_0$ (m/yr)</th>\n",
       "      <th>Speed diff</th>\n",
       "      <th>Class</th>\n",
       "    </tr>\n",
       "  </thead>\n",
       "  <tbody>\n",
       "    <tr>\n",
       "      <th>0</th>\n",
       "      <td>0.000021</td>\n",
       "      <td>-915.378881</td>\n",
       "      <td>3029.186179</td>\n",
       "      <td>unstable</td>\n",
       "    </tr>\n",
       "    <tr>\n",
       "      <th>1</th>\n",
       "      <td>0.000306</td>\n",
       "      <td>-200.805053</td>\n",
       "      <td>511.123464</td>\n",
       "      <td>unstable</td>\n",
       "    </tr>\n",
       "    <tr>\n",
       "      <th>2</th>\n",
       "      <td>-0.000047</td>\n",
       "      <td>-82.857761</td>\n",
       "      <td>456.284207</td>\n",
       "      <td>unstable</td>\n",
       "    </tr>\n",
       "    <tr>\n",
       "      <th>3</th>\n",
       "      <td>-0.000034</td>\n",
       "      <td>-450.936824</td>\n",
       "      <td>-435.655180</td>\n",
       "      <td>unstable</td>\n",
       "    </tr>\n",
       "    <tr>\n",
       "      <th>4</th>\n",
       "      <td>0.000078</td>\n",
       "      <td>-1243.208582</td>\n",
       "      <td>-349.572187</td>\n",
       "      <td>unstable</td>\n",
       "    </tr>\n",
       "    <tr>\n",
       "      <th>...</th>\n",
       "      <td>...</td>\n",
       "      <td>...</td>\n",
       "      <td>...</td>\n",
       "      <td>...</td>\n",
       "    </tr>\n",
       "    <tr>\n",
       "      <th>99</th>\n",
       "      <td>0.000234</td>\n",
       "      <td>-112.716518</td>\n",
       "      <td>613.747370</td>\n",
       "      <td>unstable</td>\n",
       "    </tr>\n",
       "    <tr>\n",
       "      <th>100</th>\n",
       "      <td>0.000044</td>\n",
       "      <td>-167.859915</td>\n",
       "      <td>1023.168837</td>\n",
       "      <td>unstable</td>\n",
       "    </tr>\n",
       "    <tr>\n",
       "      <th>101</th>\n",
       "      <td>0.000054</td>\n",
       "      <td>-1081.388452</td>\n",
       "      <td>2774.927415</td>\n",
       "      <td>unstable</td>\n",
       "    </tr>\n",
       "    <tr>\n",
       "      <th>102</th>\n",
       "      <td>0.000315</td>\n",
       "      <td>5.479272</td>\n",
       "      <td>467.138448</td>\n",
       "      <td>unstable</td>\n",
       "    </tr>\n",
       "    <tr>\n",
       "      <th>103</th>\n",
       "      <td>0.000231</td>\n",
       "      <td>-222.535111</td>\n",
       "      <td>573.128198</td>\n",
       "      <td>unstable</td>\n",
       "    </tr>\n",
       "  </tbody>\n",
       "</table>\n",
       "<p>104 rows × 4 columns</p>\n",
       "</div>"
      ],
      "text/plain": [
       "     $\\frac{P_e}{\\ell}$ (1/m)  $J_0$ (m/yr)   Speed diff     Class\n",
       "0                    0.000021   -915.378881  3029.186179  unstable\n",
       "1                    0.000306   -200.805053   511.123464  unstable\n",
       "2                   -0.000047    -82.857761   456.284207  unstable\n",
       "3                   -0.000034   -450.936824  -435.655180  unstable\n",
       "4                    0.000078  -1243.208582  -349.572187  unstable\n",
       "..                        ...           ...          ...       ...\n",
       "99                   0.000234   -112.716518   613.747370  unstable\n",
       "100                  0.000044   -167.859915  1023.168837  unstable\n",
       "101                  0.000054  -1081.388452  2774.927415  unstable\n",
       "102                  0.000315      5.479272   467.138448  unstable\n",
       "103                  0.000231   -222.535111   573.128198  unstable\n",
       "\n",
       "[104 rows x 4 columns]"
      ]
     },
     "execution_count": 2,
     "metadata": {},
     "output_type": "execute_result"
    }
   ],
   "source": [
    "df = pd.read_pickle('tmp.p')\n",
    "df"
   ]
  },
  {
   "cell_type": "code",
   "execution_count": 11,
   "id": "ae3512af-7f85-49e6-9723-ca208b8c231b",
   "metadata": {},
   "outputs": [
    {
     "data": {
      "text/plain": [
       "54"
      ]
     },
     "execution_count": 11,
     "metadata": {},
     "output_type": "execute_result"
    }
   ],
   "source": [
    "np.sum(np.abs(df['Speed diff']) >= 300)"
   ]
  },
  {
   "cell_type": "code",
   "execution_count": 23,
   "id": "2eca047a-7709-4deb-9767-cb59981f9d2c",
   "metadata": {},
   "outputs": [
    {
     "data": {
      "text/plain": [
       "array([[<AxesSubplot:title={'center':'Speed diff'}>]], dtype=object)"
      ]
     },
     "execution_count": 23,
     "metadata": {},
     "output_type": "execute_result"
    },
    {
     "data": {
      "image/png": "[encoded data removed]",
      "text/plain": [
       "<Figure size 432x288 with 1 Axes>"
      ]
     },
     "metadata": {
      "needs_background": "light"
     },
     "output_type": "display_data"
    }
   ],
   "source": [
    "df.hist(column='Speed diff', bins=50)"
   ]
  },
  {
   "cell_type": "code",
   "execution_count": 24,
   "id": "32fb5953-aa2c-4e24-83fc-a189eef22aba",
   "metadata": {},
   "outputs": [
    {
     "name": "stdout",
     "output_type": "stream",
     "text": [
      "54\n"
     ]
    }
   ],
   "source": [
    "newclass = []\n",
    "count = 0\n",
    "for idx, row in df.iterrows():\n",
    "    if row['Speed diff'] >= 300 or row['Speed diff'] <= -300:\n",
    "        newclass.append(r'$|\\Delta V| \\geq$ 300 m/yr')\n",
    "        count += 1\n",
    "    else:\n",
    "        newclass.append(r'$|\\Delta V| <$ 300 m/yr')\n",
    "\n",
    "df['Legend'] = newclass\n",
    "print(count)"
   ]
  },
  {
   "cell_type": "code",
   "execution_count": null,
   "id": "6a58bac2-3f95-4d7a-b68c-f7a46f9523c1",
   "metadata": {},
   "outputs": [],
   "source": []
  },
  {
   "cell_type": "code",
   "execution_count": 25,
   "id": "acad7bf1-ef1c-4692-b0a8-72d729456d8f",
   "metadata": {},
   "outputs": [
    {
     "data": {
      "image/png": "[encoded data removed]",
      "text/plain": [
       "<Figure size 432x432 with 3 Axes>"
      ]
     },
     "metadata": {
      "needs_background": "light"
     },
     "output_type": "display_data"
    }
   ],
   "source": [
    "aa = sns.jointplot(data=df, x=r'$\\frac{P_e}{\\ell}$ (1/m)', y=r'$J_0$ (m/yr)', hue=\"Class\")"
   ]
  },
  {
   "cell_type": "code",
   "execution_count": 26,
   "id": "d16e0aa8-2c7d-4ce8-8682-a5ecfe2665fe",
   "metadata": {},
   "outputs": [
    {
     "data": {
      "image/png": "[encoded data removed]",
      "text/plain": [
       "<Figure size 432x432 with 3 Axes>"
      ]
     },
     "metadata": {
      "needs_background": "light"
     },
     "output_type": "display_data"
    }
   ],
   "source": [
    "# testcmap = cm.get_cmap('Spectral')\n",
    "testcmap = {r'$|\\Delta V| \\geq$ 300 m/yr': '#FC766A', r'$|\\Delta V| <$ 300 m/yr': '#5B84B1'}\n",
    "aa = sns.jointplot(data=df, x=r'$\\frac{P_e}{\\ell}$ (1/m)', y=r'$J_0$ (m/yr)', hue=\"Legend\", palette=testcmap, joint_kws={\"s\": 50})\n",
    "aa.ax_joint.set_xlim([-0.0003, 0.0010])\n",
    "aa.ax_joint.set_ylim([-2000, 700])\n",
    "aa.ax_joint.legend(loc='lower right')\n",
    "# aa.ax_joint.set_xticks(np.linspace(-0.0002, 0.0010, 7))\n",
    "aa.savefig('Fig3a.png')"
   ]
  },
  {
   "cell_type": "code",
   "execution_count": 27,
   "id": "be8c5514-0c46-4931-970d-e3ae501f3b77",
   "metadata": {},
   "outputs": [
    {
     "data": {
      "text/plain": [
       "Text(0.5, 26.785000000000004, 'test')"
      ]
     },
     "execution_count": 27,
     "metadata": {},
     "output_type": "execute_result"
    }
   ],
   "source": [
    "aa.ax_joint.set_xlabel('test')"
   ]
  },
  {
   "cell_type": "code",
   "execution_count": null,
   "id": "9c16066b-bbb3-4996-886e-fc6ec30f7cf1",
   "metadata": {},
   "outputs": [],
   "source": []
  }
 ],
 "metadata": {
  "kernelspec": {
   "display_name": "Python [conda env:.conda-jme]",
   "language": "python",
   "name": "conda-env-.conda-jme-py"
  },
  "language_info": {
   "codemirror_mode": {
    "name": "ipython",
    "version": 3
   },
   "file_extension": ".py",
   "mimetype": "text/x-python",
   "name": "python",
   "nbconvert_exporter": "python",
   "pygments_lexer": "ipython3",
   "version": "3.8.10"
  }
 },
 "nbformat": 4,
 "nbformat_minor": 5
}
