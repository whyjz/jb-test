{
 "cells": [
  {
   "cell_type": "markdown",
   "id": "6d7c5956-cd7d-4532-8e9a-1486f02c97be",
   "metadata": {},
   "source": [
    "# Figure 6\n",
    "\n",
    "This notebook produces Figure 6 and other auxillary figures."
   ]
  },
  {
   "cell_type": "code",
   "execution_count": 1,
   "id": "1aa5276c-186b-4b6e-b86c-0f6396f0cc49",
   "metadata": {},
   "outputs": [],
   "source": [
    "import seaborn as sns\n",
    "import pandas as pd"
   ]
  },
  {
   "cell_type": "markdown",
   "id": "b43feaf1-16f8-487a-bd45-24b5fa6cfaab",
   "metadata": {},
   "source": [
    "## Get data\n",
    "\n",
    "We load the data produced by the previous workflow stored as `../data/results/pej0_GrIS_classification.csv`. See `Fig5.ipynb` for more details."
   ]
  },
  {
   "cell_type": "code",
   "execution_count": 2,
   "id": "9cb7cdb7-24ff-4c74-a126-40391c303cf9",
   "metadata": {},
   "outputs": [
    {
     "data": {
      "text/html": [
       "<div>\n",
       "<style scoped>\n",
       "    .dataframe tbody tr th:only-of-type {\n",
       "        vertical-align: middle;\n",
       "    }\n",
       "\n",
       "    .dataframe tbody tr th {\n",
       "        vertical-align: top;\n",
       "    }\n",
       "\n",
       "    .dataframe thead th {\n",
       "        text-align: right;\n",
       "    }\n",
       "</style>\n",
       "<table border=\"1\" class=\"dataframe\">\n",
       "  <thead>\n",
       "    <tr style=\"text-align: right;\">\n",
       "      <th></th>\n",
       "      <th>$\\frac{P_e}{\\ell}$ (1/m)</th>\n",
       "      <th>$J_0$ (m/yr)</th>\n",
       "      <th>Speed diff (m/yr)</th>\n",
       "    </tr>\n",
       "  </thead>\n",
       "  <tbody>\n",
       "    <tr>\n",
       "      <th>0</th>\n",
       "      <td>0.000021</td>\n",
       "      <td>-915.378881</td>\n",
       "      <td>3029.186179</td>\n",
       "    </tr>\n",
       "    <tr>\n",
       "      <th>1</th>\n",
       "      <td>0.000306</td>\n",
       "      <td>-200.805053</td>\n",
       "      <td>511.123464</td>\n",
       "    </tr>\n",
       "    <tr>\n",
       "      <th>2</th>\n",
       "      <td>-0.000047</td>\n",
       "      <td>-82.857761</td>\n",
       "      <td>456.284207</td>\n",
       "    </tr>\n",
       "    <tr>\n",
       "      <th>3</th>\n",
       "      <td>-0.000034</td>\n",
       "      <td>-450.936824</td>\n",
       "      <td>-435.655180</td>\n",
       "    </tr>\n",
       "    <tr>\n",
       "      <th>4</th>\n",
       "      <td>0.000078</td>\n",
       "      <td>-1243.208582</td>\n",
       "      <td>-349.572187</td>\n",
       "    </tr>\n",
       "    <tr>\n",
       "      <th>...</th>\n",
       "      <td>...</td>\n",
       "      <td>...</td>\n",
       "      <td>...</td>\n",
       "    </tr>\n",
       "    <tr>\n",
       "      <th>99</th>\n",
       "      <td>0.000234</td>\n",
       "      <td>-112.716518</td>\n",
       "      <td>613.747370</td>\n",
       "    </tr>\n",
       "    <tr>\n",
       "      <th>100</th>\n",
       "      <td>0.000044</td>\n",
       "      <td>-167.859915</td>\n",
       "      <td>1023.168837</td>\n",
       "    </tr>\n",
       "    <tr>\n",
       "      <th>101</th>\n",
       "      <td>0.000054</td>\n",
       "      <td>-1081.388452</td>\n",
       "      <td>2774.927415</td>\n",
       "    </tr>\n",
       "    <tr>\n",
       "      <th>102</th>\n",
       "      <td>0.000315</td>\n",
       "      <td>5.479272</td>\n",
       "      <td>467.138448</td>\n",
       "    </tr>\n",
       "    <tr>\n",
       "      <th>103</th>\n",
       "      <td>0.000231</td>\n",
       "      <td>-222.535111</td>\n",
       "      <td>573.128198</td>\n",
       "    </tr>\n",
       "  </tbody>\n",
       "</table>\n",
       "<p>104 rows × 3 columns</p>\n",
       "</div>"
      ],
      "text/plain": [
       "     $\\frac{P_e}{\\ell}$ (1/m)  $J_0$ (m/yr)  Speed diff (m/yr)\n",
       "0                    0.000021   -915.378881        3029.186179\n",
       "1                    0.000306   -200.805053         511.123464\n",
       "2                   -0.000047    -82.857761         456.284207\n",
       "3                   -0.000034   -450.936824        -435.655180\n",
       "4                    0.000078  -1243.208582        -349.572187\n",
       "..                        ...           ...                ...\n",
       "99                   0.000234   -112.716518         613.747370\n",
       "100                  0.000044   -167.859915        1023.168837\n",
       "101                  0.000054  -1081.388452        2774.927415\n",
       "102                  0.000315      5.479272         467.138448\n",
       "103                  0.000231   -222.535111         573.128198\n",
       "\n",
       "[104 rows x 3 columns]"
      ]
     },
     "execution_count": 2,
     "metadata": {},
     "output_type": "execute_result"
    }
   ],
   "source": [
    "df = pd.read_csv('../data/results/pej0_GrIS_classification.csv')\n",
    "df"
   ]
  },
  {
   "cell_type": "markdown",
   "id": "2b1c1229-c9cd-47df-bc2c-ca2036a25c5d",
   "metadata": {},
   "source": [
    "This histogram gives a quick idea about the distribution of speed change:"
   ]
  },
  {
   "cell_type": "code",
   "execution_count": 3,
   "id": "2eca047a-7709-4deb-9767-cb59981f9d2c",
   "metadata": {},
   "outputs": [
    {
     "data": {
      "image/png": "[encoded data removed]",
      "text/plain": [
       "<Figure size 432x288 with 1 Axes>"
      ]
     },
     "metadata": {
      "needs_background": "light"
     },
     "output_type": "display_data"
    }
   ],
   "source": [
    "df.hist(column='Speed diff (m/yr)', bins=50);"
   ]
  },
  {
   "cell_type": "markdown",
   "id": "b738e962-eba3-4be8-a601-6df52da70525",
   "metadata": {},
   "source": [
    "## Visualization\n",
    "\n",
    "We add a new column called `Legend` and classify the glaciers based on a simple threshold of speed change (here set to $\\pm$300 m/yr):"
   ]
  },
  {
   "cell_type": "code",
   "execution_count": 4,
   "id": "32fb5953-aa2c-4e24-83fc-a189eef22aba",
   "metadata": {},
   "outputs": [
    {
     "name": "stdout",
     "output_type": "stream",
     "text": [
      "How many glaciers have a higher speed change?: 54\n",
      "How many glaciers have a lower speed change?:  50\n"
     ]
    }
   ],
   "source": [
    "newclass = []\n",
    "count = 0\n",
    "for idx, row in df.iterrows():\n",
    "    if row['Speed diff (m/yr)'] >= 300 or row['Speed diff (m/yr)'] <= -300:\n",
    "        newclass.append(r'$|\\Delta V| \\geq$ 300 m/yr')\n",
    "        count += 1\n",
    "    else:\n",
    "        newclass.append(r'$|\\Delta V| <$ 300 m/yr')\n",
    "\n",
    "df['Legend'] = newclass\n",
    "print('How many glaciers have a higher speed change?: {}'.format(count))\n",
    "print('How many glaciers have a lower speed change?:  {}'.format(len(df) - count))"
   ]
  },
  {
   "cell_type": "markdown",
   "id": "68bc4106-30ad-4682-b073-d1d89e13ec61",
   "metadata": {},
   "source": [
    "Finally, we plot **Figure 6**:"
   ]
  },
  {
   "cell_type": "code",
   "execution_count": 5,
   "id": "d16e0aa8-2c7d-4ce8-8682-a5ecfe2665fe",
   "metadata": {},
   "outputs": [
    {
     "data": {
      "image/png": "[encoded data removed]",
      "text/plain": [
       "<Figure size 432x432 with 3 Axes>"
      ]
     },
     "metadata": {
      "needs_background": "light"
     },
     "output_type": "display_data"
    }
   ],
   "source": [
    "cmap = {r'$|\\Delta V| \\geq$ 300 m/yr': '#FC766A', r'$|\\Delta V| <$ 300 m/yr': '#5B84B1'}\n",
    "f = sns.jointplot(data=df, x=r'$\\frac{P_e}{\\ell}$ (1/m)', y=r'$J_0$ (m/yr)', hue=\"Legend\", palette=cmap, joint_kws={\"s\": 50})\n",
    "f.ax_joint.set_xlim([-0.0003, 0.0010])\n",
    "f.ax_joint.set_ylim([-2000, 700])\n",
    "f.ax_joint.legend(loc='lower right')\n",
    "f.savefig('Fig6.pdf')"
   ]
  }
 ],
 "metadata": {
  "kernelspec": {
   "display_name": "Python [conda env:.conda-jme]",
   "language": "python",
   "name": "conda-env-.conda-jme-py"
  },
  "language_info": {
   "codemirror_mode": {
    "name": "ipython",
    "version": 3
   },
   "file_extension": ".py",
   "mimetype": "text/x-python",
   "name": "python",
   "nbconvert_exporter": "python",
   "pygments_lexer": "ipython3",
   "version": "3.8.10"
  }
 },
 "nbformat": 4,
 "nbformat_minor": 5
}
