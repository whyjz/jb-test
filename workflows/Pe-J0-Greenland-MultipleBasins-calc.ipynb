{
 "cells": [
  {
   "cell_type": "markdown",
   "id": "fatal-journal",
   "metadata": {},
   "source": [
    "# workflows presented in \"The long-term instability of glacier dynamics due to a sudden change of basal lubrication\"\n",
    "\n",
    "## (DRAFT) v 0.1\n",
    "\n",
    "This notebook is not officially published yet. All the content is subject to change at any time. \n",
    "\n",
    "### Objectives besides the science\n",
    "\n",
    "Beside the science, the other important purpose of this notebook is to test and find the best way to present a live workflow along with an academic publication (e.g., a journal paper published by Geophysical Research Letters), maximizing its reproducibility.\n",
    "\n",
    "We plan to submit this notebook as part of the supporting information of the manuscript (xxx - see the title).\n",
    "\n",
    "Triditionally, this kind of materials would be zipped and uploaded to the same place where you can find online paper text (probably through a DOI).\n",
    "\n",
    "In the light of the FAIR data policy, publishers are beginning to ask that the supplemental materials should be easily findable, accessible, and reusable as well. A popular option for geoscience researchers is Zenodo, which we can get a permanent DOI for the data sets, code, and documents uploaded there. \n",
    "\n",
    "Here we would like to make one step forward and see how we can include Jupyter notebooks + binder or Jupyter Book pages as the supplemental materials while retaining their functionaility to the users. (i.e. they should NOT be only uploaded to Zenodo as a zipped file).\n",
    "\n",
    "### Color codes for the challenges \n",
    "\n",
    "<font color='blue'> This means a minor issue -- can be resolved without much effort.</font>\n",
    "\n",
    "<font color='red'> This means a major issue -- needs attention of more people.</font>\n",
    "\n",
    "## 1. Results from the data of the Greenland Ice Sheet\n",
    "\n",
    "The notebook calculates $P_e$ and $J_0$ of multiple glaciers in Greenland using the flowline location provided by Felikson et al (2021). <font color='blue'>(Needs a formal ciation and reference section)</font>\n",
    "\n",
    "The $P_e$ and $J_0$ are then compared with the glacier speed change during 1998-2018 from the ITS_LIVE data set.\n",
    "\n",
    "<font color='red'> Suppose we get a DOI from Zenodo's service by uploading the supplemental materials. How to make the DOI link to a binder or a Jupyter book page so users can directly execute these cells? Should we contact Zenodo team for more discussion? </font>"
   ]
  },
  {
   "cell_type": "code",
   "execution_count": 1,
   "id": "respective-tennis",
   "metadata": {},
   "outputs": [],
   "source": [
    "%load_ext autoreload\n",
    "%autoreload 2\n",
    "%matplotlib widget"
   ]
  },
  {
   "cell_type": "markdown",
   "id": "400659fe-a08e-4eb7-846c-92f8249c4e2c",
   "metadata": {},
   "source": [
    "`pjgris.py` contains few functions for running this notebook. It is not meant to be published as a Python package (at least this is what I think). <font color='blue'>What is a good way to host this file?</font>"
   ]
  },
  {
   "cell_type": "code",
   "execution_count": 2,
   "id": "circular-spider",
   "metadata": {},
   "outputs": [],
   "source": [
    "from pjgris import my_savgol_filter, savgol_smoothing, pe_corefun, cal_pej0_for_each_flowline, cal_avg_for_each_basin\n",
    "# import glob\n",
    "import rasterio\n",
    "import utils\n",
    "from netCDF4 import Dataset\n",
    "import numpy as np\n",
    "import matplotlib.pyplot as plt\n",
    "# from matplotlib import cm\n",
    "# from scipy import interpolate\n",
    "from pathlib import Path\n",
    "import pickle"
   ]
  },
  {
   "cell_type": "markdown",
   "id": "6d75688f-e7ce-48b1-bb10-201cf6b684b6",
   "metadata": {},
   "source": [
    "This notebook needs to import lots of data from the SI of Felikson et al.'s paper. Each `.nc` file here is roughly 20-30 MB. <font color='red'>What is a good way to host these data?</font>"
   ]
  },
  {
   "cell_type": "code",
   "execution_count": 3,
   "id": "acting-thought",
   "metadata": {},
   "outputs": [
    {
     "name": "stdout",
     "output_type": "stream",
     "text": [
      "glaciers total: 104\n"
     ]
    }
   ],
   "source": [
    "netcdf_dir = '/home/jovyan/Projects/LubriSens/Data/Felikson2021/netcdfs'\n",
    "glacier_labels = ['0001', '0003', '0004', '0005', '0007', '0009', '0010', '0014', '0015', '0016', \n",
    "                  '0019', '0020', '0021', '0022', '0024', '0025', '0027', '0029', '0035', '0036',\n",
    "                  '0037', '0039', '0043', '0046', '0047', '0048', '0049', '0050', '0052', '0054', \n",
    "                  '0058', '0059', '0085', '0099', '0103', '0105', '0106', '0111', '0113', '0114',\n",
    "                  '0115', '0116', '0124', '0129', '0135', '0152', '0167', '0168', '0174', '0177',\n",
    "                  '0181', '0183', '0207', '0208', '0212', '0213', '0217', '0245', '0252', '0276',\n",
    "                  '0277', 'a006', 'a011', 'a030', 'a031', 'a033', 'a034', 'a045', 'a061', 'a112', \n",
    "                  'a132', 'a147', 'a148', 'a173', 'a184', 'a199', 'a251', 'a260', 'b006', 'b011',\n",
    "                  'b030', 'b031', 'b033', 'b034', 'b045', 'b061', 'b132', 'b147', 'b148', 'b173',\n",
    "                  'b184', 'b199', 'b216', 'b251', 'c031', 'c033', 'c034', 'c061', 'c173', 'c184', \n",
    "                  'c216', 'd173', 'd184', 'd216']\n",
    "\n",
    "# glaciers = [i for i in glob.glob(netcdf_dir + '/glacier*.nc')]\n",
    "glaciers = [netcdf_dir + '/glacier' + i + '.nc' for i in glacier_labels]\n",
    "# glaciers.sort()\n",
    "print('glaciers total: {}'.format(len(glaciers)))\n",
    "# glaciers"
   ]
  },
  {
   "cell_type": "markdown",
   "id": "6168f4c6-0dba-4264-a095-bbeabbe4b551",
   "metadata": {},
   "source": [
    "This notebook also uses ITS_LIVE dataset as the input of glacier speed. <font color='blue'>Should we show how to get the data from the ITS_LIVE website, or just give readers the downloaded file?</font>"
   ]
  },
  {
   "cell_type": "code",
   "execution_count": 4,
   "id": "lined-kidney",
   "metadata": {},
   "outputs": [],
   "source": [
    "speed_file = '/home/jovyan/Projects/LubriSens/Data/ITSLIVE/GRE_G0240_1998_v.tif'\n",
    "speed_data = rasterio.open(speed_file)\n",
    "vdiff_file = '/home/jovyan/Projects/LubriSens/Data/ITSLIVE/GRE_G0240_diff-2018-1998_v.tif'\n",
    "vdiff_data = rasterio.open(vdiff_file)"
   ]
  },
  {
   "cell_type": "code",
   "execution_count": 8,
   "id": "4edc98b0-18e6-4e7f-915a-c10e5eecea46",
   "metadata": {},
   "outputs": [],
   "source": [
    "# for glacier_file in glaciers:\n",
    "#     print(Path(glacier_file).stem[-4:])"
   ]
  },
  {
   "cell_type": "code",
   "execution_count": 10,
   "id": "2ffd19a2-fa73-4deb-9b22-25f0d2d72b9e",
   "metadata": {},
   "outputs": [],
   "source": [
    "mega_results = {}\n",
    "\n",
    "for glacier_file in glaciers:\n",
    "    ds = Dataset(glacier_file, 'r')\n",
    "    flowline_groups, _ = utils.get_flowline_groups(ds)\n",
    "    primary_flowlines = [i for i in flowline_groups if 'iter' not in i.path]\n",
    "    \n",
    "    results = {}\n",
    "\n",
    "    for flowline_group in primary_flowlines:\n",
    "\n",
    "        data_group = cal_pej0_for_each_flowline(flowline_group, speed_data, vdiff_data)\n",
    "\n",
    "        if data_group is not None:\n",
    "            results[flowline_group.name] = data_group\n",
    "\n",
    "    results['avg'] = cal_avg_for_each_basin(results)\n",
    "    mega_results[Path(glacier_file).stem[-4:]] = results\n",
    "    \n",
    "pickle.dump(mega_results, open( \"mega_results.p\", \"wb\" ))"
   ]
  },
  {
   "cell_type": "markdown",
   "id": "84cdacaf-4d2c-44f6-a0b9-488967926b0a",
   "metadata": {},
   "source": [
    "Here comes a long cell because most lines here are within a for loop. <font color='red'> Is it possible to run a for loop across multiple cells so we can make better comments/explanations using Markdown for the code within  the loop? </font>"
   ]
  },
  {
   "cell_type": "code",
   "execution_count": 5,
   "id": "verbal-danish",
   "metadata": {},
   "outputs": [],
   "source": [
    "mega_results = pickle.load( open( \"mega_results.p\", \"rb\" ) )"
   ]
  },
  {
   "cell_type": "code",
   "execution_count": 9,
   "id": "colored-license",
   "metadata": {},
   "outputs": [],
   "source": [
    "# for key in mega_results:\n",
    "#     print(key)\n",
    "# mega_results['0001']"
   ]
  },
  {
   "cell_type": "markdown",
   "id": "d431323e-8428-4dfc-a251-99ffe968d71c",
   "metadata": {},
   "source": [
    "The following cells visualize the results. <font color='blue'>I don't know if making either (or all) of them interactive is a good idea or not.... Maybe we will see some time while working on the other issues.</font>"
   ]
  },
  {
   "cell_type": "code",
   "execution_count": 11,
   "id": "restricted-demographic",
   "metadata": {},
   "outputs": [],
   "source": [
    "# burd = cm.get_cmap('turbo', 51)\n",
    "# print(burd(1))"
   ]
  },
  {
   "cell_type": "code",
   "execution_count": 10,
   "id": "medical-exposure",
   "metadata": {},
   "outputs": [
    {
     "data": {
      "application/vnd.jupyter.widget-view+json": {
       "model_id": "6355f431b05c49008954c795045e721b",
       "version_major": 2,
       "version_minor": 0
      },
      "text/plain": [
       "Canvas(toolbar=Toolbar(toolitems=[('Home', 'Reset original view', 'home', 'home'), ('Back', 'Back to previous …"
      ]
     },
     "metadata": {},
     "output_type": "display_data"
    }
   ],
   "source": [
    "# results\n",
    "\n",
    "fig, ax1 = plt.subplots(2, 1, sharex=True, figsize=(5, 5))\n",
    "for key in mega_results:\n",
    "    z_max = np.nanmax(mega_results[key]['avg']['udiff_sm'])\n",
    "    z_min = np.nanmin(mega_results[key]['avg']['udiff_sm'])\n",
    "    z_value = z_max if abs(z_max) > abs(z_min) else z_min\n",
    "    if z_value > 1000:\n",
    "        linecolor = 'xkcd:red'\n",
    "    elif z_value < -250: \n",
    "        linecolor = 'xkcd:blue'\n",
    "    else:\n",
    "        linecolor = 'xkcd:green'\n",
    "    # linecolor = (z_value + 500) / 3500\n",
    "    # linecolor = 1 if linecolor > 1 else linecolor \n",
    "    # linecolor = 0 if linecolor < 0 else linecolor \n",
    "    # print(key, linecolor)\n",
    "    ax1[0].plot(mega_results[key]['avg']['d'], mega_results[key]['avg']['pe_ignore_dslope'], color=linecolor)    # color=burd(linecolor)\n",
    "    ax1[0].set_ylim([-0.002, 0.002])\n",
    "    ax1[1].plot(mega_results[key]['avg']['d'], mega_results[key]['avg']['udiff_sm'], color=linecolor)\n"
   ]
  },
  {
   "cell_type": "code",
   "execution_count": 16,
   "id": "extra-murray",
   "metadata": {},
   "outputs": [
    {
     "data": {
      "application/vnd.jupyter.widget-view+json": {
       "model_id": "2e79ed69e3444a6c8c14e235eaa8cdd5",
       "version_major": 2,
       "version_minor": 0
      },
      "text/plain": [
       "Canvas(toolbar=Toolbar(toolitems=[('Home', 'Reset original view', 'home', 'home'), ('Back', 'Back to previous …"
      ]
     },
     "metadata": {},
     "output_type": "display_data"
    }
   ],
   "source": [
    "fig, ax2 = plt.subplots(1, 1, sharex=True, figsize=(5, 5))\n",
    "for key in mega_results:\n",
    "    z_max = np.nanmax(mega_results[key]['avg']['udiff_sm'])\n",
    "    z_min = np.nanmin(mega_results[key]['avg']['udiff_sm'])\n",
    "    z_value = z_max if abs(z_max) > abs(z_min) else z_min\n",
    "    if z_value > 1000:\n",
    "        linecolor = 'xkcd:red'\n",
    "    elif z_value < -250: \n",
    "        linecolor = 'xkcd:blue'\n",
    "    else:\n",
    "        linecolor = 'xkcd:green'\n",
    "    # linecolor = (z_value + 500) / 3500\n",
    "    # linecolor = 1 if linecolor > 1 else linecolor \n",
    "    # linecolor = 0 if linecolor < 0 else linecolor \n",
    "    # ax2.plot(mega_results[key]['avg']['pe'][:100], mega_results[key]['avg']['j0'][:100], color=linecolor)\n",
    "    ax2.plot(mega_results[key]['avg']['pe_ignore_dslope'][:100], mega_results[key]['avg']['j0_ignore_dslope'][:100], color=linecolor)"
   ]
  },
  {
   "cell_type": "code",
   "execution_count": 17,
   "id": "c3fcda48-11ab-41f2-b85b-4ad15ca09975",
   "metadata": {},
   "outputs": [
    {
     "data": {
      "application/vnd.jupyter.widget-view+json": {
       "model_id": "cccbb3e6d5ee4f95bf05f390f53ab781",
       "version_major": 2,
       "version_minor": 0
      },
      "text/plain": [
       "Canvas(toolbar=Toolbar(toolitems=[('Home', 'Reset original view', 'home', 'home'), ('Back', 'Back to previous …"
      ]
     },
     "metadata": {},
     "output_type": "display_data"
    }
   ],
   "source": [
    "length = 200\n",
    "fig, ax3 = plt.subplots(1, 1, sharex=True, figsize=(5, 5))\n",
    "for key in mega_results:\n",
    "    z_max = np.nanmax(mega_results[key]['avg']['udiff_sm'])\n",
    "    z_min = np.nanmin(mega_results[key]['avg']['udiff_sm'])\n",
    "    z_value = z_max if abs(z_max) > abs(z_min) else z_min\n",
    "    if z_value > 1000:\n",
    "        linecolor = 'xkcd:red'\n",
    "    elif z_value < -250: \n",
    "        linecolor = 'xkcd:blue'\n",
    "    else:\n",
    "        linecolor = 'xkcd:green'\n",
    "    # linecolor = (z_value + 500) / 3500\n",
    "    # linecolor = 1 if linecolor > 1 else linecolor \n",
    "    # linecolor = 0 if linecolor < 0 else linecolor \n",
    "    # ax2.plot(mega_results[key]['avg']['pe'][:100], mega_results[key]['avg']['j0'][:100], color=linecolor)\n",
    "    ax3.plot(mega_results[key]['avg']['pe_ignore_dslope'][:80], mega_results[key]['avg']['j0_ignore_dslope'][:80], color=linecolor)\n",
    "    # ax3.plot(next(x for x in mega_results[key]['avg']['pe_ignore_dslope'][:length] if not np.isnan(x)),\n",
    "    #          next(x for x in mega_results[key]['avg']['j0_ignore_dslope'][:length] if not np.isnan(x)), color=linecolor, markersize=30)"
   ]
  },
  {
   "cell_type": "code",
   "execution_count": 21,
   "id": "1cdc1a35-2af9-46bd-bb64-77b3790cdcbb",
   "metadata": {},
   "outputs": [
    {
     "data": {
      "text/plain": [
       "2.1362515307452037e-05"
      ]
     },
     "execution_count": 21,
     "metadata": {},
     "output_type": "execute_result"
    }
   ],
   "source": [
    "next(x for x in mega_results['0001']['avg']['pe_ignore_dslope'][:length] if not np.isnan(x))"
   ]
  },
  {
   "cell_type": "code",
   "execution_count": null,
   "id": "7c656a7a-baae-4964-a417-6079282d16dd",
   "metadata": {},
   "outputs": [],
   "source": [
    "mega_results['0001']['avg']['pe_ignore_dslope'][:length]"
   ]
  },
  {
   "cell_type": "code",
   "execution_count": 10,
   "id": "durable-plenty",
   "metadata": {},
   "outputs": [],
   "source": [
    "# for i, j in zip(results['glacier0021.nc']['d'], results['glacier0021.nc']['pe']):\n",
    "#     print(i, j)"
   ]
  },
  {
   "cell_type": "code",
   "execution_count": 11,
   "id": "sought-accent",
   "metadata": {},
   "outputs": [
    {
     "data": {
      "application/vnd.jupyter.widget-view+json": {
       "model_id": "82afa0f49a054623bee40adbe6392a54",
       "version_major": 2,
       "version_minor": 0
      },
      "text/plain": [
       "Canvas(toolbar=Toolbar(toolitems=[('Home', 'Reset original view', 'home', 'home'), ('Back', 'Back to previous …"
      ]
     },
     "metadata": {},
     "output_type": "display_data"
    },
    {
     "data": {
      "text/plain": [
       "Text(0.5, 1.0, 'Greenland Ice Sheet \\n Accelerated glaciers = red; Stable glaciers = blue; Decce. gl. = brown')"
      ]
     },
     "execution_count": 11,
     "metadata": {},
     "output_type": "execute_result"
    }
   ],
   "source": [
    "fig, ax3 = plt.subplots(1, 1, sharex=True)\n",
    "for key in results:\n",
    "    z_max = np.nanmax(results[key]['udiff_sm'])\n",
    "    z_min = np.nanmin(results[key]['udiff_sm'])\n",
    "    z_value = z_max if abs(z_max) > abs(z_min) else z_min\n",
    "    if z_value > 1000:\n",
    "        linecolor = 'xkcd:red'\n",
    "    elif z_value < -250: \n",
    "        linecolor = 'xkcd:brown'\n",
    "    else:\n",
    "        linecolor = 'xkcd:blue'\n",
    "    # linecolor = (z_value + 500) / 3500\n",
    "    # linecolor = 1 if linecolor > 1 else linecolor \n",
    "    # linecolor = 0 if linecolor < 0 else linecolor \n",
    "    # ax3.plot(results[key]['term1'][:150] + results[key]['term2'][:150] + results[key]['term3'][:150] + results[key]['term4'][:150], results[key]['j0'][:150], color=linecolor)\n",
    "    ax3.plot(results[key]['term1'][:100] + results[key]['term2'][:100] + results[key]['term3'][:100], results[key]['j0'][:100], color=linecolor)\n",
    "\n",
    "    \n",
    "ax3.set_xlabel(r'$\\frac{P_e}{\\ell}$ (1/m)')\n",
    "ax3.set_ylabel(r'$J_0$ (m/yr)')\n",
    "ax3.set_title('Greenland Ice Sheet \\n Accelerated glaciers = red; Stable glaciers = blue; Decce. gl. = brown')"
   ]
  },
  {
   "cell_type": "code",
   "execution_count": 12,
   "id": "employed-ultimate",
   "metadata": {},
   "outputs": [],
   "source": [
    "# fig, ax4 = plt.subplots(1, 1, sharex=True)\n",
    "# for key in results:\n",
    "#     z_max = np.nanmax(results[key]['udiff_sm'])\n",
    "#     z_min = np.nanmin(results[key]['udiff_sm'])\n",
    "#     z_value = z_max if abs(z_max) > abs(z_min) else z_min\n",
    "#     if z_value > 500:\n",
    "#         linecolor = 'xkcd:red'\n",
    "#     elif z_value < -250: \n",
    "#         linecolor = 'xkcd:brown'\n",
    "#     else:\n",
    "#         linecolor = 'xkcd:blue'\n",
    "#     # linecolor = (z_value + 500) / 3500\n",
    "#     # linecolor = 1 if linecolor > 1 else linecolor \n",
    "#     # linecolor = 0 if linecolor < 0 else linecolor \n",
    "#     # ax3.plot(results[key]['term1'][:150] + results[key]['term2'][:150] + results[key]['term3'][:150] + results[key]['term4'][:150], results[key]['j0'][:150], color=burd(linecolor))\n",
    "#     ax4.plot(results[key]['term1'][:100] + results[key]['term2'][:100] + results[key]['term3'][:100], results[key]['j0'][:100], color=linecolor)\n",
    "\n",
    "    \n",
    "# ax4.set_xlabel(r'$\\frac{P_e}{\\ell}$ (1/m)')\n",
    "# ax4.set_ylabel(r'$J_0$ (m/yr)')\n",
    "# ax4.set_title('Greenland Ice Sheet \\n Accelerated glaciers = red; Stable glaciers = blue; Decce. gl. = brown')"
   ]
  },
  {
   "cell_type": "code",
   "execution_count": 13,
   "id": "federal-bishop",
   "metadata": {},
   "outputs": [
    {
     "data": {
      "text/plain": [
       "'glacierd216'"
      ]
     },
     "execution_count": 13,
     "metadata": {},
     "output_type": "execute_result"
    }
   ],
   "source": [
    "from pathlib import Path\n",
    "Path(glacier_file).stem"
   ]
  },
  {
   "cell_type": "code",
   "execution_count": null,
   "id": "c5279970-9679-4488-ae63-e3c09ffcfc09",
   "metadata": {},
   "outputs": [],
   "source": []
  }
 ],
 "metadata": {
  "kernelspec": {
   "display_name": "Python [conda env:.conda-jme]",
   "language": "python",
   "name": "conda-env-.conda-jme-py"
  },
  "language_info": {
   "codemirror_mode": {
    "name": "ipython",
    "version": 3
   },
   "file_extension": ".py",
   "mimetype": "text/x-python",
   "name": "python",
   "nbconvert_exporter": "python",
   "pygments_lexer": "ipython3",
   "version": "3.8.10"
  }
 },
 "nbformat": 4,
 "nbformat_minor": 5
}
