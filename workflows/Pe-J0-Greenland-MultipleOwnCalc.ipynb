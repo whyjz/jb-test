{
 "cells": [
  {
   "cell_type": "markdown",
   "id": "fatal-journal",
   "metadata": {},
   "source": [
    "# workflows presented in \"The long-term instability of glacier dynamics due to a sudden change of basal lubrication\"\n",
    "\n",
    "## (DRAFT) v 0.1\n",
    "\n",
    "This notebook is not officially published yet. All the content is subject to change at any time. \n",
    "\n",
    "### Objectives besides the science\n",
    "\n",
    "Beside the science, the other important purpose of this notebook is to test and find the best way to present a live workflow along with an academic publication (e.g., a journal paper published by Geophysical Research Letters), maximizing its reproducibility.\n",
    "\n",
    "We plan to submit this notebook as part of the supporting information of the manuscript (xxx - see the title).\n",
    "\n",
    "Triditionally, this kind of materials would be zipped and uploaded to the same place where you can find online paper text (probably through a DOI).\n",
    "\n",
    "In the light of the FAIR data policy, publishers are beginning to ask that the supplemental materials should be easily findable, accessible, and reusable as well. A popular option for geoscience researchers is Zenodo, which we can get a permanent DOI for the data sets, code, and documents uploaded there. \n",
    "\n",
    "Here we would like to make one step forward and see how we can include Jupyter notebooks + binder or Jupyter Book pages as the supplemental materials while retaining their functionaility to the users. (i.e. they should NOT be only uploaded to Zenodo as a zipped file).\n",
    "\n",
    "### Color codes for the challenges \n",
    "\n",
    "<font color='blue'> This means a minor issue -- can be resolved without much effort.</font>\n",
    "\n",
    "<font color='red'> This means a major issue -- needs attention of more people.</font>\n",
    "\n",
    "## 1. Results from the data of the Greenland Ice Sheet\n",
    "\n",
    "The notebook calculates $P_e$ and $J_0$ of multiple glaciers in Greenland using the flowline location provided by Felikson et al (2021). <font color='blue'>(Needs a formal ciation and reference section)</font>\n",
    "\n",
    "The $P_e$ and $J_0$ are then compared with the glacier speed change during 1998-2018 from the ITS_LIVE data set.\n",
    "\n",
    "<font color='red'> Suppose we get a DOI from Zenodo's service by uploading the supplemental materials. How to make the DOI link to a binder or a Jupyter book page so users can directly execute these cells? Should we contact Zenodo team for more discussion? </font>"
   ]
  },
  {
   "cell_type": "code",
   "execution_count": 1,
   "id": "respective-tennis",
   "metadata": {},
   "outputs": [],
   "source": [
    "%matplotlib widget\n",
    "%load_ext autoreload\n",
    "%autoreload 2"
   ]
  },
  {
   "cell_type": "markdown",
   "id": "400659fe-a08e-4eb7-846c-92f8249c4e2c",
   "metadata": {},
   "source": [
    "`pjgris.py` contains few functions for running this notebook. It is not meant to be published as a Python package (at least this is what I think). <font color='blue'>What is a good way to host this file?</font>"
   ]
  },
  {
   "cell_type": "code",
   "execution_count": 2,
   "id": "circular-spider",
   "metadata": {},
   "outputs": [],
   "source": [
    "from pjgris import my_savgol_filter, savgol_smoothing, pe_corefun\n",
    "import glob\n",
    "import rasterio\n",
    "import utils\n",
    "from netCDF4 import Dataset\n",
    "import numpy as np\n",
    "import matplotlib.pyplot as plt\n",
    "from matplotlib import cm\n",
    "from scipy import interpolate"
   ]
  },
  {
   "cell_type": "markdown",
   "id": "6d75688f-e7ce-48b1-bb10-201cf6b684b6",
   "metadata": {},
   "source": [
    "This notebook needs to import lots of data from the SI of Felikson et al.'s paper. Each `.nc` file here is roughly 20-30 MB. <font color='red'>What is a good way to host these data?</font>"
   ]
  },
  {
   "cell_type": "code",
   "execution_count": 3,
   "id": "acting-thought",
   "metadata": {},
   "outputs": [
    {
     "name": "stdout",
     "output_type": "stream",
     "text": [
      "glaciers total: 187\n"
     ]
    },
    {
     "data": {
      "text/plain": [
       "['/home/jovyan/Projects/LubriSens/Data/Felikson2021/netcdfs/glacier0001.nc',\n",
       " '/home/jovyan/Projects/LubriSens/Data/Felikson2021/netcdfs/glacier0002.nc',\n",
       " '/home/jovyan/Projects/LubriSens/Data/Felikson2021/netcdfs/glacier0003.nc',\n",
       " '/home/jovyan/Projects/LubriSens/Data/Felikson2021/netcdfs/glacier0004.nc',\n",
       " '/home/jovyan/Projects/LubriSens/Data/Felikson2021/netcdfs/glacier0005.nc',\n",
       " '/home/jovyan/Projects/LubriSens/Data/Felikson2021/netcdfs/glacier0007.nc',\n",
       " '/home/jovyan/Projects/LubriSens/Data/Felikson2021/netcdfs/glacier0008.nc',\n",
       " '/home/jovyan/Projects/LubriSens/Data/Felikson2021/netcdfs/glacier0009.nc',\n",
       " '/home/jovyan/Projects/LubriSens/Data/Felikson2021/netcdfs/glacier0010.nc',\n",
       " '/home/jovyan/Projects/LubriSens/Data/Felikson2021/netcdfs/glacier0012.nc',\n",
       " '/home/jovyan/Projects/LubriSens/Data/Felikson2021/netcdfs/glacier0013.nc',\n",
       " '/home/jovyan/Projects/LubriSens/Data/Felikson2021/netcdfs/glacier0014.nc',\n",
       " '/home/jovyan/Projects/LubriSens/Data/Felikson2021/netcdfs/glacier0015.nc',\n",
       " '/home/jovyan/Projects/LubriSens/Data/Felikson2021/netcdfs/glacier0016.nc',\n",
       " '/home/jovyan/Projects/LubriSens/Data/Felikson2021/netcdfs/glacier0017.nc',\n",
       " '/home/jovyan/Projects/LubriSens/Data/Felikson2021/netcdfs/glacier0018.nc',\n",
       " '/home/jovyan/Projects/LubriSens/Data/Felikson2021/netcdfs/glacier0019.nc',\n",
       " '/home/jovyan/Projects/LubriSens/Data/Felikson2021/netcdfs/glacier0020.nc',\n",
       " '/home/jovyan/Projects/LubriSens/Data/Felikson2021/netcdfs/glacier0021.nc',\n",
       " '/home/jovyan/Projects/LubriSens/Data/Felikson2021/netcdfs/glacier0022.nc',\n",
       " '/home/jovyan/Projects/LubriSens/Data/Felikson2021/netcdfs/glacier0023.nc',\n",
       " '/home/jovyan/Projects/LubriSens/Data/Felikson2021/netcdfs/glacier0024.nc',\n",
       " '/home/jovyan/Projects/LubriSens/Data/Felikson2021/netcdfs/glacier0025.nc',\n",
       " '/home/jovyan/Projects/LubriSens/Data/Felikson2021/netcdfs/glacier0026.nc',\n",
       " '/home/jovyan/Projects/LubriSens/Data/Felikson2021/netcdfs/glacier0027.nc',\n",
       " '/home/jovyan/Projects/LubriSens/Data/Felikson2021/netcdfs/glacier0028.nc',\n",
       " '/home/jovyan/Projects/LubriSens/Data/Felikson2021/netcdfs/glacier0029.nc',\n",
       " '/home/jovyan/Projects/LubriSens/Data/Felikson2021/netcdfs/glacier0032.nc',\n",
       " '/home/jovyan/Projects/LubriSens/Data/Felikson2021/netcdfs/glacier0035.nc',\n",
       " '/home/jovyan/Projects/LubriSens/Data/Felikson2021/netcdfs/glacier0036.nc',\n",
       " '/home/jovyan/Projects/LubriSens/Data/Felikson2021/netcdfs/glacier0037.nc',\n",
       " '/home/jovyan/Projects/LubriSens/Data/Felikson2021/netcdfs/glacier0038.nc',\n",
       " '/home/jovyan/Projects/LubriSens/Data/Felikson2021/netcdfs/glacier0039.nc',\n",
       " '/home/jovyan/Projects/LubriSens/Data/Felikson2021/netcdfs/glacier0040.nc',\n",
       " '/home/jovyan/Projects/LubriSens/Data/Felikson2021/netcdfs/glacier0042.nc',\n",
       " '/home/jovyan/Projects/LubriSens/Data/Felikson2021/netcdfs/glacier0043.nc',\n",
       " '/home/jovyan/Projects/LubriSens/Data/Felikson2021/netcdfs/glacier0046.nc',\n",
       " '/home/jovyan/Projects/LubriSens/Data/Felikson2021/netcdfs/glacier0047.nc',\n",
       " '/home/jovyan/Projects/LubriSens/Data/Felikson2021/netcdfs/glacier0048.nc',\n",
       " '/home/jovyan/Projects/LubriSens/Data/Felikson2021/netcdfs/glacier0049.nc',\n",
       " '/home/jovyan/Projects/LubriSens/Data/Felikson2021/netcdfs/glacier0050.nc',\n",
       " '/home/jovyan/Projects/LubriSens/Data/Felikson2021/netcdfs/glacier0051.nc',\n",
       " '/home/jovyan/Projects/LubriSens/Data/Felikson2021/netcdfs/glacier0052.nc',\n",
       " '/home/jovyan/Projects/LubriSens/Data/Felikson2021/netcdfs/glacier0053.nc',\n",
       " '/home/jovyan/Projects/LubriSens/Data/Felikson2021/netcdfs/glacier0054.nc',\n",
       " '/home/jovyan/Projects/LubriSens/Data/Felikson2021/netcdfs/glacier0055.nc',\n",
       " '/home/jovyan/Projects/LubriSens/Data/Felikson2021/netcdfs/glacier0056.nc',\n",
       " '/home/jovyan/Projects/LubriSens/Data/Felikson2021/netcdfs/glacier0057.nc',\n",
       " '/home/jovyan/Projects/LubriSens/Data/Felikson2021/netcdfs/glacier0058.nc',\n",
       " '/home/jovyan/Projects/LubriSens/Data/Felikson2021/netcdfs/glacier0059.nc',\n",
       " '/home/jovyan/Projects/LubriSens/Data/Felikson2021/netcdfs/glacier0063.nc',\n",
       " '/home/jovyan/Projects/LubriSens/Data/Felikson2021/netcdfs/glacier0065.nc',\n",
       " '/home/jovyan/Projects/LubriSens/Data/Felikson2021/netcdfs/glacier0067.nc',\n",
       " '/home/jovyan/Projects/LubriSens/Data/Felikson2021/netcdfs/glacier0070.nc',\n",
       " '/home/jovyan/Projects/LubriSens/Data/Felikson2021/netcdfs/glacier0071.nc',\n",
       " '/home/jovyan/Projects/LubriSens/Data/Felikson2021/netcdfs/glacier0072.nc',\n",
       " '/home/jovyan/Projects/LubriSens/Data/Felikson2021/netcdfs/glacier0073.nc',\n",
       " '/home/jovyan/Projects/LubriSens/Data/Felikson2021/netcdfs/glacier0076.nc',\n",
       " '/home/jovyan/Projects/LubriSens/Data/Felikson2021/netcdfs/glacier0077.nc',\n",
       " '/home/jovyan/Projects/LubriSens/Data/Felikson2021/netcdfs/glacier0083.nc',\n",
       " '/home/jovyan/Projects/LubriSens/Data/Felikson2021/netcdfs/glacier0084.nc',\n",
       " '/home/jovyan/Projects/LubriSens/Data/Felikson2021/netcdfs/glacier0085.nc',\n",
       " '/home/jovyan/Projects/LubriSens/Data/Felikson2021/netcdfs/glacier0088.nc',\n",
       " '/home/jovyan/Projects/LubriSens/Data/Felikson2021/netcdfs/glacier0098.nc',\n",
       " '/home/jovyan/Projects/LubriSens/Data/Felikson2021/netcdfs/glacier0099.nc',\n",
       " '/home/jovyan/Projects/LubriSens/Data/Felikson2021/netcdfs/glacier0101.nc',\n",
       " '/home/jovyan/Projects/LubriSens/Data/Felikson2021/netcdfs/glacier0102.nc',\n",
       " '/home/jovyan/Projects/LubriSens/Data/Felikson2021/netcdfs/glacier0103.nc',\n",
       " '/home/jovyan/Projects/LubriSens/Data/Felikson2021/netcdfs/glacier0105.nc',\n",
       " '/home/jovyan/Projects/LubriSens/Data/Felikson2021/netcdfs/glacier0106.nc',\n",
       " '/home/jovyan/Projects/LubriSens/Data/Felikson2021/netcdfs/glacier0111.nc',\n",
       " '/home/jovyan/Projects/LubriSens/Data/Felikson2021/netcdfs/glacier0113.nc',\n",
       " '/home/jovyan/Projects/LubriSens/Data/Felikson2021/netcdfs/glacier0114.nc',\n",
       " '/home/jovyan/Projects/LubriSens/Data/Felikson2021/netcdfs/glacier0115.nc',\n",
       " '/home/jovyan/Projects/LubriSens/Data/Felikson2021/netcdfs/glacier0116.nc',\n",
       " '/home/jovyan/Projects/LubriSens/Data/Felikson2021/netcdfs/glacier0124.nc',\n",
       " '/home/jovyan/Projects/LubriSens/Data/Felikson2021/netcdfs/glacier0127.nc',\n",
       " '/home/jovyan/Projects/LubriSens/Data/Felikson2021/netcdfs/glacier0129.nc',\n",
       " '/home/jovyan/Projects/LubriSens/Data/Felikson2021/netcdfs/glacier0135.nc',\n",
       " '/home/jovyan/Projects/LubriSens/Data/Felikson2021/netcdfs/glacier0152.nc',\n",
       " '/home/jovyan/Projects/LubriSens/Data/Felikson2021/netcdfs/glacier0154.nc',\n",
       " '/home/jovyan/Projects/LubriSens/Data/Felikson2021/netcdfs/glacier0167.nc',\n",
       " '/home/jovyan/Projects/LubriSens/Data/Felikson2021/netcdfs/glacier0168.nc',\n",
       " '/home/jovyan/Projects/LubriSens/Data/Felikson2021/netcdfs/glacier0174.nc',\n",
       " '/home/jovyan/Projects/LubriSens/Data/Felikson2021/netcdfs/glacier0177.nc',\n",
       " '/home/jovyan/Projects/LubriSens/Data/Felikson2021/netcdfs/glacier0181.nc',\n",
       " '/home/jovyan/Projects/LubriSens/Data/Felikson2021/netcdfs/glacier0183.nc',\n",
       " '/home/jovyan/Projects/LubriSens/Data/Felikson2021/netcdfs/glacier0198.nc',\n",
       " '/home/jovyan/Projects/LubriSens/Data/Felikson2021/netcdfs/glacier0202.nc',\n",
       " '/home/jovyan/Projects/LubriSens/Data/Felikson2021/netcdfs/glacier0207.nc',\n",
       " '/home/jovyan/Projects/LubriSens/Data/Felikson2021/netcdfs/glacier0208.nc',\n",
       " '/home/jovyan/Projects/LubriSens/Data/Felikson2021/netcdfs/glacier0212.nc',\n",
       " '/home/jovyan/Projects/LubriSens/Data/Felikson2021/netcdfs/glacier0213.nc',\n",
       " '/home/jovyan/Projects/LubriSens/Data/Felikson2021/netcdfs/glacier0217.nc',\n",
       " '/home/jovyan/Projects/LubriSens/Data/Felikson2021/netcdfs/glacier0219.nc',\n",
       " '/home/jovyan/Projects/LubriSens/Data/Felikson2021/netcdfs/glacier0224.nc',\n",
       " '/home/jovyan/Projects/LubriSens/Data/Felikson2021/netcdfs/glacier0228.nc',\n",
       " '/home/jovyan/Projects/LubriSens/Data/Felikson2021/netcdfs/glacier0229.nc',\n",
       " '/home/jovyan/Projects/LubriSens/Data/Felikson2021/netcdfs/glacier0233.nc',\n",
       " '/home/jovyan/Projects/LubriSens/Data/Felikson2021/netcdfs/glacier0234.nc',\n",
       " '/home/jovyan/Projects/LubriSens/Data/Felikson2021/netcdfs/glacier0237.nc',\n",
       " '/home/jovyan/Projects/LubriSens/Data/Felikson2021/netcdfs/glacier0238.nc',\n",
       " '/home/jovyan/Projects/LubriSens/Data/Felikson2021/netcdfs/glacier0239.nc',\n",
       " '/home/jovyan/Projects/LubriSens/Data/Felikson2021/netcdfs/glacier0240.nc',\n",
       " '/home/jovyan/Projects/LubriSens/Data/Felikson2021/netcdfs/glacier0242.nc',\n",
       " '/home/jovyan/Projects/LubriSens/Data/Felikson2021/netcdfs/glacier0243.nc',\n",
       " '/home/jovyan/Projects/LubriSens/Data/Felikson2021/netcdfs/glacier0245.nc',\n",
       " '/home/jovyan/Projects/LubriSens/Data/Felikson2021/netcdfs/glacier0252.nc',\n",
       " '/home/jovyan/Projects/LubriSens/Data/Felikson2021/netcdfs/glacier0263.nc',\n",
       " '/home/jovyan/Projects/LubriSens/Data/Felikson2021/netcdfs/glacier0265.nc',\n",
       " '/home/jovyan/Projects/LubriSens/Data/Felikson2021/netcdfs/glacier0276.nc',\n",
       " '/home/jovyan/Projects/LubriSens/Data/Felikson2021/netcdfs/glacier0277.nc',\n",
       " '/home/jovyan/Projects/LubriSens/Data/Felikson2021/netcdfs/glaciera006.nc',\n",
       " '/home/jovyan/Projects/LubriSens/Data/Felikson2021/netcdfs/glaciera011.nc',\n",
       " '/home/jovyan/Projects/LubriSens/Data/Felikson2021/netcdfs/glaciera030.nc',\n",
       " '/home/jovyan/Projects/LubriSens/Data/Felikson2021/netcdfs/glaciera031.nc',\n",
       " '/home/jovyan/Projects/LubriSens/Data/Felikson2021/netcdfs/glaciera033.nc',\n",
       " '/home/jovyan/Projects/LubriSens/Data/Felikson2021/netcdfs/glaciera034.nc',\n",
       " '/home/jovyan/Projects/LubriSens/Data/Felikson2021/netcdfs/glaciera041.nc',\n",
       " '/home/jovyan/Projects/LubriSens/Data/Felikson2021/netcdfs/glaciera044.nc',\n",
       " '/home/jovyan/Projects/LubriSens/Data/Felikson2021/netcdfs/glaciera045.nc',\n",
       " '/home/jovyan/Projects/LubriSens/Data/Felikson2021/netcdfs/glaciera061.nc',\n",
       " '/home/jovyan/Projects/LubriSens/Data/Felikson2021/netcdfs/glaciera074.nc',\n",
       " '/home/jovyan/Projects/LubriSens/Data/Felikson2021/netcdfs/glaciera112.nc',\n",
       " '/home/jovyan/Projects/LubriSens/Data/Felikson2021/netcdfs/glaciera132.nc',\n",
       " '/home/jovyan/Projects/LubriSens/Data/Felikson2021/netcdfs/glaciera147.nc',\n",
       " '/home/jovyan/Projects/LubriSens/Data/Felikson2021/netcdfs/glaciera148.nc',\n",
       " '/home/jovyan/Projects/LubriSens/Data/Felikson2021/netcdfs/glaciera150.nc',\n",
       " '/home/jovyan/Projects/LubriSens/Data/Felikson2021/netcdfs/glaciera173.nc',\n",
       " '/home/jovyan/Projects/LubriSens/Data/Felikson2021/netcdfs/glaciera184.nc',\n",
       " '/home/jovyan/Projects/LubriSens/Data/Felikson2021/netcdfs/glaciera199.nc',\n",
       " '/home/jovyan/Projects/LubriSens/Data/Felikson2021/netcdfs/glaciera216.nc',\n",
       " '/home/jovyan/Projects/LubriSens/Data/Felikson2021/netcdfs/glaciera220.nc',\n",
       " '/home/jovyan/Projects/LubriSens/Data/Felikson2021/netcdfs/glaciera221.nc',\n",
       " '/home/jovyan/Projects/LubriSens/Data/Felikson2021/netcdfs/glaciera222.nc',\n",
       " '/home/jovyan/Projects/LubriSens/Data/Felikson2021/netcdfs/glaciera223.nc',\n",
       " '/home/jovyan/Projects/LubriSens/Data/Felikson2021/netcdfs/glaciera226.nc',\n",
       " '/home/jovyan/Projects/LubriSens/Data/Felikson2021/netcdfs/glaciera230.nc',\n",
       " '/home/jovyan/Projects/LubriSens/Data/Felikson2021/netcdfs/glaciera251.nc',\n",
       " '/home/jovyan/Projects/LubriSens/Data/Felikson2021/netcdfs/glaciera260.nc',\n",
       " '/home/jovyan/Projects/LubriSens/Data/Felikson2021/netcdfs/glaciera261.nc',\n",
       " '/home/jovyan/Projects/LubriSens/Data/Felikson2021/netcdfs/glacierb006.nc',\n",
       " '/home/jovyan/Projects/LubriSens/Data/Felikson2021/netcdfs/glacierb011.nc',\n",
       " '/home/jovyan/Projects/LubriSens/Data/Felikson2021/netcdfs/glacierb030.nc',\n",
       " '/home/jovyan/Projects/LubriSens/Data/Felikson2021/netcdfs/glacierb031.nc',\n",
       " '/home/jovyan/Projects/LubriSens/Data/Felikson2021/netcdfs/glacierb033.nc',\n",
       " '/home/jovyan/Projects/LubriSens/Data/Felikson2021/netcdfs/glacierb034.nc',\n",
       " '/home/jovyan/Projects/LubriSens/Data/Felikson2021/netcdfs/glacierb041.nc',\n",
       " '/home/jovyan/Projects/LubriSens/Data/Felikson2021/netcdfs/glacierb044.nc',\n",
       " '/home/jovyan/Projects/LubriSens/Data/Felikson2021/netcdfs/glacierb045.nc',\n",
       " '/home/jovyan/Projects/LubriSens/Data/Felikson2021/netcdfs/glacierb061.nc',\n",
       " '/home/jovyan/Projects/LubriSens/Data/Felikson2021/netcdfs/glacierb074.nc',\n",
       " '/home/jovyan/Projects/LubriSens/Data/Felikson2021/netcdfs/glacierb112.nc',\n",
       " '/home/jovyan/Projects/LubriSens/Data/Felikson2021/netcdfs/glacierb132.nc',\n",
       " '/home/jovyan/Projects/LubriSens/Data/Felikson2021/netcdfs/glacierb147.nc',\n",
       " '/home/jovyan/Projects/LubriSens/Data/Felikson2021/netcdfs/glacierb148.nc',\n",
       " '/home/jovyan/Projects/LubriSens/Data/Felikson2021/netcdfs/glacierb150.nc',\n",
       " '/home/jovyan/Projects/LubriSens/Data/Felikson2021/netcdfs/glacierb173.nc',\n",
       " '/home/jovyan/Projects/LubriSens/Data/Felikson2021/netcdfs/glacierb184.nc',\n",
       " '/home/jovyan/Projects/LubriSens/Data/Felikson2021/netcdfs/glacierb199.nc',\n",
       " '/home/jovyan/Projects/LubriSens/Data/Felikson2021/netcdfs/glacierb216.nc',\n",
       " '/home/jovyan/Projects/LubriSens/Data/Felikson2021/netcdfs/glacierb220.nc',\n",
       " '/home/jovyan/Projects/LubriSens/Data/Felikson2021/netcdfs/glacierb221.nc',\n",
       " '/home/jovyan/Projects/LubriSens/Data/Felikson2021/netcdfs/glacierb222.nc',\n",
       " '/home/jovyan/Projects/LubriSens/Data/Felikson2021/netcdfs/glacierb223.nc',\n",
       " '/home/jovyan/Projects/LubriSens/Data/Felikson2021/netcdfs/glacierb226.nc',\n",
       " '/home/jovyan/Projects/LubriSens/Data/Felikson2021/netcdfs/glacierb230.nc',\n",
       " '/home/jovyan/Projects/LubriSens/Data/Felikson2021/netcdfs/glacierb251.nc',\n",
       " '/home/jovyan/Projects/LubriSens/Data/Felikson2021/netcdfs/glacierb260.nc',\n",
       " '/home/jovyan/Projects/LubriSens/Data/Felikson2021/netcdfs/glacierb261.nc',\n",
       " '/home/jovyan/Projects/LubriSens/Data/Felikson2021/netcdfs/glacierc031.nc',\n",
       " '/home/jovyan/Projects/LubriSens/Data/Felikson2021/netcdfs/glacierc033.nc',\n",
       " '/home/jovyan/Projects/LubriSens/Data/Felikson2021/netcdfs/glacierc034.nc',\n",
       " '/home/jovyan/Projects/LubriSens/Data/Felikson2021/netcdfs/glacierc044.nc',\n",
       " '/home/jovyan/Projects/LubriSens/Data/Felikson2021/netcdfs/glacierc061.nc',\n",
       " '/home/jovyan/Projects/LubriSens/Data/Felikson2021/netcdfs/glacierc074.nc',\n",
       " '/home/jovyan/Projects/LubriSens/Data/Felikson2021/netcdfs/glacierc173.nc',\n",
       " '/home/jovyan/Projects/LubriSens/Data/Felikson2021/netcdfs/glacierc184.nc',\n",
       " '/home/jovyan/Projects/LubriSens/Data/Felikson2021/netcdfs/glacierc216.nc',\n",
       " '/home/jovyan/Projects/LubriSens/Data/Felikson2021/netcdfs/glacierc220.nc',\n",
       " '/home/jovyan/Projects/LubriSens/Data/Felikson2021/netcdfs/glacierc222.nc',\n",
       " '/home/jovyan/Projects/LubriSens/Data/Felikson2021/netcdfs/glacierc226.nc',\n",
       " '/home/jovyan/Projects/LubriSens/Data/Felikson2021/netcdfs/glacierc230.nc',\n",
       " '/home/jovyan/Projects/LubriSens/Data/Felikson2021/netcdfs/glacierc260.nc',\n",
       " '/home/jovyan/Projects/LubriSens/Data/Felikson2021/netcdfs/glacierd173.nc',\n",
       " '/home/jovyan/Projects/LubriSens/Data/Felikson2021/netcdfs/glacierd184.nc',\n",
       " '/home/jovyan/Projects/LubriSens/Data/Felikson2021/netcdfs/glacierd216.nc']"
      ]
     },
     "execution_count": 3,
     "metadata": {},
     "output_type": "execute_result"
    }
   ],
   "source": [
    "netcdf_dir = '/home/jovyan/Projects/LubriSens/Data/Felikson2021/netcdfs'\n",
    "glaciers = [i for i in glob.glob(netcdf_dir + '/glacier*.nc')]\n",
    "glaciers.sort()\n",
    "print('glaciers total: {}'.format(len(glaciers)))\n",
    "glaciers"
   ]
  },
  {
   "cell_type": "markdown",
   "id": "6168f4c6-0dba-4264-a095-bbeabbe4b551",
   "metadata": {},
   "source": [
    "This notebook also uses ITS_LIVE dataset as the input of glacier speed. <font color='blue'>Should we show how to get the data from the ITS_LIVE website, or just give readers the downloaded file?</font>"
   ]
  },
  {
   "cell_type": "code",
   "execution_count": 4,
   "id": "lined-kidney",
   "metadata": {},
   "outputs": [],
   "source": [
    "speed_file = '/home/jovyan/Projects/LubriSens/Data/ITSLIVE/GRE_G0240_1998_v.tif'\n",
    "speed_data = rasterio.open(speed_file)\n",
    "vdiff_file = '/home/jovyan/Projects/LubriSens/Data/ITSLIVE/GRE_G0240_diff-2018-1998_v.tif'\n",
    "vdiff_data = rasterio.open(vdiff_file)\n"
   ]
  },
  {
   "cell_type": "markdown",
   "id": "84cdacaf-4d2c-44f6-a0b9-488967926b0a",
   "metadata": {},
   "source": [
    "Here comes a long cell because most lines here are within a for loop. <font color='red'> Is it possible to run a for loop across multiple cells so we can make better comments/explanations using Markdown for the code within  the loop? </font>"
   ]
  },
  {
   "cell_type": "code",
   "execution_count": 5,
   "id": "verbal-danish",
   "metadata": {},
   "outputs": [],
   "source": [
    "results = {}\n",
    "\n",
    "for glacier_file in glaciers:\n",
    "    ds = Dataset(glacier_file, 'r')\n",
    "    flowline_groups, _ = utils.get_flowline_groups(ds)\n",
    "    flowline_group = flowline_groups[3]   # The fourth flowline\n",
    "    \n",
    "    x = flowline_group['x'][:]\n",
    "    y = flowline_group['y'][:]\n",
    "    d = flowline_group['d'][:]\n",
    "    b = flowline_group['geometry']['bed']['BedMachine']['nominal']['h'][:]\n",
    "    s = flowline_group['geometry']['surface']['GIMP']['nominal']['h'][:]\n",
    "    # pe_felikson = flowline_group['Pe']['GIMP']['nominal'][:]\n",
    "    \n",
    "    if d.size < 280:\n",
    "        continue   # skip really short glacier flowline\n",
    "\n",
    "    xytuple = [(m, n) for m, n in zip(x, y)]\n",
    "    sample_gen = speed_data.sample(xytuple)\n",
    "    u = np.array([float(record) for record in sample_gen])\n",
    "    u[u < 0] = np.nan\n",
    "    \n",
    "    if sum(~np.isnan(u)) <= 20:\n",
    "        continue\n",
    "    \n",
    "    valid_u_d = d[~np.isnan(u)]\n",
    "    valid_u_u = u[~np.isnan(u)]\n",
    "    f = interpolate.interp1d(valid_u_d, valid_u_u, bounds_error=False, fill_value=np.nan)\n",
    "    u_holefilled = f(d.data)\n",
    "    \n",
    "    valid_idx = ~np.isnan(u_holefilled)\n",
    "\n",
    "    x_valid = x[valid_idx]\n",
    "    y_valid = y[valid_idx]\n",
    "    d_valid = d[valid_idx]\n",
    "    s_valid = s[valid_idx]\n",
    "    b_valid = b[valid_idx]\n",
    "    u_valid = u_holefilled[valid_idx]\n",
    "\n",
    "    if s_valid.size < 280:\n",
    "        continue   # skip really short glacier flowline\n",
    "    \n",
    "    # the point closet to the divide = 0 km\n",
    "    x_valid = np.flip(x_valid)\n",
    "    y_valid = np.flip(y_valid)\n",
    "    s_valid = np.flip(s_valid)\n",
    "    b_valid = np.flip(b_valid)\n",
    "    u_valid = np.flip(u_valid)\n",
    "    \n",
    "    s_sm, b_sm, u_sm, h_sm, dudx_sm, dhdx_sm, slope_sm, d2hdx2_sm, dalphadx_sm = savgol_smoothing(u_valid, s_valid, b_valid, w=251)\n",
    "    \n",
    "    pe, j0, term1, term2, term3, term4 = pe_corefun(u_sm, h_sm, dudx_sm, dhdx_sm, slope_sm, dalphadx_sm)\n",
    "    \n",
    "   \n",
    "    xytuple2 = [(m, n) for m, n in zip(x_valid, y_valid)]\n",
    "    sample_gen2 = vdiff_data.sample(xytuple2)\n",
    "    udiff = np.array([float(record) for record in sample_gen2])\n",
    "    udiff[udiff < -6000] = np.nan\n",
    "    udiff_sm = my_savgol_filter(udiff, window_length=201, polyorder=1, deriv=0, delta=50, mode='interp')\n",
    "    \n",
    "    if sum(~np.isnan(udiff_sm)) == 0:\n",
    "        continue\n",
    "        \n",
    "    d_valid_km = d_valid / 1000\n",
    "    pe *= 10000\n",
    "    \n",
    "    # flip again so that d = 0 km indicates front and points upstream\n",
    "    pe = np.flip(pe)\n",
    "    j0 = np.flip(j0)\n",
    "    term1 = np.flip(term1)\n",
    "    term2 = np.flip(term2)\n",
    "    term3 = np.flip(term3)\n",
    "    term4 = np.flip(term4)\n",
    "    udiff = np.flip(udiff)\n",
    "    udiff_sm = np.flip(udiff_sm)\n",
    "    \n",
    "    data_group = {'d': d_valid_km, 'pe': pe, 'j0': j0, 'term1': term1, 'term2': term2, 'term3': term3, 'term4': term4,  'udiff': udiff, 'udiff_sm': udiff_sm,}\n",
    "    results[glacier_file.split('/')[-1]] = data_group"
   ]
  },
  {
   "cell_type": "code",
   "execution_count": 6,
   "id": "colored-license",
   "metadata": {},
   "outputs": [
    {
     "data": {
      "text/plain": [
       "array([ 219.38729858,  219.38729858,  219.38729858, ..., 1664.50598145,\n",
       "       1664.50598145, 1664.50598145])"
      ]
     },
     "execution_count": 6,
     "metadata": {},
     "output_type": "execute_result"
    }
   ],
   "source": [
    "u_valid"
   ]
  },
  {
   "cell_type": "markdown",
   "id": "d431323e-8428-4dfc-a251-99ffe968d71c",
   "metadata": {},
   "source": [
    "The following cells visualize the results. <font color='blue'>I don't know if making either (or all) of them interactive is a good idea or not.... Maybe we will see some time while working on the other issues.</font>"
   ]
  },
  {
   "cell_type": "code",
   "execution_count": 7,
   "id": "restricted-demographic",
   "metadata": {},
   "outputs": [
    {
     "name": "stdout",
     "output_type": "stream",
     "text": [
      "(0.21291, 0.12947, 0.37314, 1.0)\n"
     ]
    }
   ],
   "source": [
    "burd = cm.get_cmap('turbo', 51)\n",
    "print(burd(1))"
   ]
  },
  {
   "cell_type": "code",
   "execution_count": 8,
   "id": "medical-exposure",
   "metadata": {},
   "outputs": [
    {
     "data": {
      "application/vnd.jupyter.widget-view+json": {
       "model_id": "0526c4bdca7a4e64a2ea8a0c504ff67a",
       "version_major": 2,
       "version_minor": 0
      },
      "text/plain": [
       "Canvas(toolbar=Toolbar(toolitems=[('Home', 'Reset original view', 'home', 'home'), ('Back', 'Back to previous …"
      ]
     },
     "metadata": {},
     "output_type": "display_data"
    }
   ],
   "source": [
    "# results\n",
    "\n",
    "fig, ax1 = plt.subplots(2, 1, sharex=True)\n",
    "for key in results:\n",
    "    z_max = np.nanmax(results[key]['udiff_sm'])\n",
    "    z_min = np.nanmin(results[key]['udiff_sm'])\n",
    "    z_value = z_max if abs(z_max) > abs(z_min) else z_min\n",
    "    if z_value > 500:\n",
    "        linecolor = 'xkcd:red'\n",
    "    elif z_value < -250: \n",
    "        linecolor = 'xkcd:blue'\n",
    "    else:\n",
    "        linecolor = 'xkcd:green'\n",
    "    # linecolor = (z_value + 500) / 3500\n",
    "    # linecolor = 1 if linecolor > 1 else linecolor \n",
    "    # linecolor = 0 if linecolor < 0 else linecolor \n",
    "    # print(key, linecolor)\n",
    "    ax1[0].plot(results[key]['d'], results[key]['pe'], color=linecolor)    # color=burd(linecolor)\n",
    "    ax1[0].set_ylim([-10, 10])\n",
    "    ax1[1].plot(results[key]['d'], results[key]['udiff_sm'], color=linecolor)\n"
   ]
  },
  {
   "cell_type": "code",
   "execution_count": 9,
   "id": "extra-murray",
   "metadata": {},
   "outputs": [
    {
     "data": {
      "application/vnd.jupyter.widget-view+json": {
       "model_id": "ad5e1fe1f003488cba84adc634ed8b05",
       "version_major": 2,
       "version_minor": 0
      },
      "text/plain": [
       "Canvas(toolbar=Toolbar(toolitems=[('Home', 'Reset original view', 'home', 'home'), ('Back', 'Back to previous …"
      ]
     },
     "metadata": {},
     "output_type": "display_data"
    }
   ],
   "source": [
    "fig, ax2 = plt.subplots(1, 1, sharex=True)\n",
    "for key in results:\n",
    "    z_max = np.nanmax(results[key]['udiff_sm'])\n",
    "    z_min = np.nanmin(results[key]['udiff_sm'])\n",
    "    z_value = z_max if abs(z_max) > abs(z_min) else z_min\n",
    "    if z_value > 500:\n",
    "        linecolor = 'xkcd:red'\n",
    "    elif z_value < -250: \n",
    "        linecolor = 'xkcd:blue'\n",
    "    else:\n",
    "        linecolor = 'xkcd:green'\n",
    "    # linecolor = (z_value + 500) / 3500\n",
    "    # linecolor = 1 if linecolor > 1 else linecolor \n",
    "    # linecolor = 0 if linecolor < 0 else linecolor \n",
    "    ax2.plot(results[key]['pe'][:100], results[key]['j0'][:100], color=linecolor)"
   ]
  },
  {
   "cell_type": "code",
   "execution_count": 10,
   "id": "durable-plenty",
   "metadata": {},
   "outputs": [],
   "source": [
    "# for i, j in zip(results['glacier0021.nc']['d'], results['glacier0021.nc']['pe']):\n",
    "#     print(i, j)"
   ]
  },
  {
   "cell_type": "code",
   "execution_count": 11,
   "id": "sought-accent",
   "metadata": {},
   "outputs": [
    {
     "data": {
      "application/vnd.jupyter.widget-view+json": {
       "model_id": "82afa0f49a054623bee40adbe6392a54",
       "version_major": 2,
       "version_minor": 0
      },
      "text/plain": [
       "Canvas(toolbar=Toolbar(toolitems=[('Home', 'Reset original view', 'home', 'home'), ('Back', 'Back to previous …"
      ]
     },
     "metadata": {},
     "output_type": "display_data"
    },
    {
     "data": {
      "text/plain": [
       "Text(0.5, 1.0, 'Greenland Ice Sheet \\n Accelerated glaciers = red; Stable glaciers = blue; Decce. gl. = brown')"
      ]
     },
     "execution_count": 11,
     "metadata": {},
     "output_type": "execute_result"
    }
   ],
   "source": [
    "fig, ax3 = plt.subplots(1, 1, sharex=True)\n",
    "for key in results:\n",
    "    z_max = np.nanmax(results[key]['udiff_sm'])\n",
    "    z_min = np.nanmin(results[key]['udiff_sm'])\n",
    "    z_value = z_max if abs(z_max) > abs(z_min) else z_min\n",
    "    if z_value > 500:\n",
    "        linecolor = 'xkcd:red'\n",
    "    elif z_value < -250: \n",
    "        linecolor = 'xkcd:brown'\n",
    "    else:\n",
    "        linecolor = 'xkcd:blue'\n",
    "    # linecolor = (z_value + 500) / 3500\n",
    "    # linecolor = 1 if linecolor > 1 else linecolor \n",
    "    # linecolor = 0 if linecolor < 0 else linecolor \n",
    "    # ax3.plot(results[key]['term1'][:150] + results[key]['term2'][:150] + results[key]['term3'][:150] + results[key]['term4'][:150], results[key]['j0'][:150], color=linecolor)\n",
    "    ax3.plot(results[key]['term1'][:100] + results[key]['term2'][:100] + results[key]['term3'][:100], results[key]['j0'][:100], color=linecolor)\n",
    "\n",
    "    \n",
    "ax3.set_xlabel(r'$\\frac{P_e}{\\ell}$ (1/m)')\n",
    "ax3.set_ylabel(r'$J_0$ (m/yr)')\n",
    "ax3.set_title('Greenland Ice Sheet \\n Accelerated glaciers = red; Stable glaciers = blue; Decce. gl. = brown')"
   ]
  },
  {
   "cell_type": "code",
   "execution_count": 12,
   "id": "employed-ultimate",
   "metadata": {},
   "outputs": [],
   "source": [
    "# fig, ax4 = plt.subplots(1, 1, sharex=True)\n",
    "# for key in results:\n",
    "#     z_max = np.nanmax(results[key]['udiff_sm'])\n",
    "#     z_min = np.nanmin(results[key]['udiff_sm'])\n",
    "#     z_value = z_max if abs(z_max) > abs(z_min) else z_min\n",
    "#     if z_value > 500:\n",
    "#         linecolor = 'xkcd:red'\n",
    "#     elif z_value < -250: \n",
    "#         linecolor = 'xkcd:brown'\n",
    "#     else:\n",
    "#         linecolor = 'xkcd:blue'\n",
    "#     # linecolor = (z_value + 500) / 3500\n",
    "#     # linecolor = 1 if linecolor > 1 else linecolor \n",
    "#     # linecolor = 0 if linecolor < 0 else linecolor \n",
    "#     # ax3.plot(results[key]['term1'][:150] + results[key]['term2'][:150] + results[key]['term3'][:150] + results[key]['term4'][:150], results[key]['j0'][:150], color=burd(linecolor))\n",
    "#     ax4.plot(results[key]['term1'][:100] + results[key]['term2'][:100] + results[key]['term3'][:100], results[key]['j0'][:100], color=linecolor)\n",
    "\n",
    "    \n",
    "# ax4.set_xlabel(r'$\\frac{P_e}{\\ell}$ (1/m)')\n",
    "# ax4.set_ylabel(r'$J_0$ (m/yr)')\n",
    "# ax4.set_title('Greenland Ice Sheet \\n Accelerated glaciers = red; Stable glaciers = blue; Decce. gl. = brown')"
   ]
  },
  {
   "cell_type": "code",
   "execution_count": 13,
   "id": "federal-bishop",
   "metadata": {},
   "outputs": [
    {
     "data": {
      "text/plain": [
       "'glacierd216'"
      ]
     },
     "execution_count": 13,
     "metadata": {},
     "output_type": "execute_result"
    }
   ],
   "source": [
    "from pathlib import Path\n",
    "Path(glacier_file).stem"
   ]
  },
  {
   "cell_type": "code",
   "execution_count": null,
   "id": "c5279970-9679-4488-ae63-e3c09ffcfc09",
   "metadata": {},
   "outputs": [],
   "source": []
  }
 ],
 "metadata": {
  "kernelspec": {
   "display_name": "Python [conda env:.conda-jme]",
   "language": "python",
   "name": "conda-env-.conda-jme-py"
  },
  "language_info": {
   "codemirror_mode": {
    "name": "ipython",
    "version": 3
   },
   "file_extension": ".py",
   "mimetype": "text/x-python",
   "name": "python",
   "nbconvert_exporter": "python",
   "pygments_lexer": "ipython3",
   "version": "3.8.10"
  }
 },
 "nbformat": 4,
 "nbformat_minor": 5
}
