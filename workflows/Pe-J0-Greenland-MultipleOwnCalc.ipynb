{
 "cells": [
  {
   "cell_type": "markdown",
   "id": "fatal-journal",
   "metadata": {},
   "source": [
    "This is to calculate $P_e$ and $J_0$ of multiple glaciers in Greenland using the flowline location provided by Felikson et al (2021).\n",
    "\n",
    "The $P_e$ and $J_0$ are then compared with the glacier speed change during 1998-2018 from the ITS_LIVE data set."
   ]
  },
  {
   "cell_type": "code",
   "execution_count": 1,
   "id": "respective-tennis",
   "metadata": {},
   "outputs": [],
   "source": [
    "%matplotlib widget\n",
    "%load_ext autoreload\n",
    "%autoreload 2"
   ]
  },
  {
   "cell_type": "code",
   "execution_count": 2,
   "id": "circular-spider",
   "metadata": {},
   "outputs": [],
   "source": [
    "from pjgris import my_savgol_filter, savgol_smoothing, pe_corefun\n",
    "import glob\n",
    "import rasterio\n",
    "import utils\n",
    "from netCDF4 import Dataset\n",
    "import numpy as np\n",
    "import matplotlib.pyplot as plt\n",
    "from matplotlib import cm\n",
    "from scipy import interpolate"
   ]
  },
  {
   "cell_type": "code",
   "execution_count": 3,
   "id": "acting-thought",
   "metadata": {},
   "outputs": [
    {
     "data": {
      "text/plain": [
       "['/home/whyj/Projects/LubriSens/Data/Felikson2021/netcdfs/glacier0001.nc',\n",
       " '/home/whyj/Projects/LubriSens/Data/Felikson2021/netcdfs/glacier0002.nc',\n",
       " '/home/whyj/Projects/LubriSens/Data/Felikson2021/netcdfs/glacier0003.nc',\n",
       " '/home/whyj/Projects/LubriSens/Data/Felikson2021/netcdfs/glacier0004.nc',\n",
       " '/home/whyj/Projects/LubriSens/Data/Felikson2021/netcdfs/glacier0005.nc',\n",
       " '/home/whyj/Projects/LubriSens/Data/Felikson2021/netcdfs/glacier0007.nc',\n",
       " '/home/whyj/Projects/LubriSens/Data/Felikson2021/netcdfs/glacier0008.nc',\n",
       " '/home/whyj/Projects/LubriSens/Data/Felikson2021/netcdfs/glacier0009.nc',\n",
       " '/home/whyj/Projects/LubriSens/Data/Felikson2021/netcdfs/glacier0010.nc',\n",
       " '/home/whyj/Projects/LubriSens/Data/Felikson2021/netcdfs/glacier0012.nc',\n",
       " '/home/whyj/Projects/LubriSens/Data/Felikson2021/netcdfs/glacier0013.nc',\n",
       " '/home/whyj/Projects/LubriSens/Data/Felikson2021/netcdfs/glacier0014.nc',\n",
       " '/home/whyj/Projects/LubriSens/Data/Felikson2021/netcdfs/glacier0015.nc',\n",
       " '/home/whyj/Projects/LubriSens/Data/Felikson2021/netcdfs/glacier0016.nc',\n",
       " '/home/whyj/Projects/LubriSens/Data/Felikson2021/netcdfs/glacier0017.nc',\n",
       " '/home/whyj/Projects/LubriSens/Data/Felikson2021/netcdfs/glacier0018.nc',\n",
       " '/home/whyj/Projects/LubriSens/Data/Felikson2021/netcdfs/glacier0019.nc',\n",
       " '/home/whyj/Projects/LubriSens/Data/Felikson2021/netcdfs/glacier0021.nc',\n",
       " '/home/whyj/Projects/LubriSens/Data/Felikson2021/netcdfs/glacier0022.nc',\n",
       " '/home/whyj/Projects/LubriSens/Data/Felikson2021/netcdfs/glacier0023.nc',\n",
       " '/home/whyj/Projects/LubriSens/Data/Felikson2021/netcdfs/glacier0024.nc',\n",
       " '/home/whyj/Projects/LubriSens/Data/Felikson2021/netcdfs/glacier0025.nc',\n",
       " '/home/whyj/Projects/LubriSens/Data/Felikson2021/netcdfs/glacier0026.nc',\n",
       " '/home/whyj/Projects/LubriSens/Data/Felikson2021/netcdfs/glacier0027.nc',\n",
       " '/home/whyj/Projects/LubriSens/Data/Felikson2021/netcdfs/glacier0028.nc',\n",
       " '/home/whyj/Projects/LubriSens/Data/Felikson2021/netcdfs/glacier0029.nc',\n",
       " '/home/whyj/Projects/LubriSens/Data/Felikson2021/netcdfs/glacier0032.nc',\n",
       " '/home/whyj/Projects/LubriSens/Data/Felikson2021/netcdfs/glacier0035.nc',\n",
       " '/home/whyj/Projects/LubriSens/Data/Felikson2021/netcdfs/glacier0036.nc',\n",
       " '/home/whyj/Projects/LubriSens/Data/Felikson2021/netcdfs/glacier0037.nc',\n",
       " '/home/whyj/Projects/LubriSens/Data/Felikson2021/netcdfs/glacier0038.nc',\n",
       " '/home/whyj/Projects/LubriSens/Data/Felikson2021/netcdfs/glacier0039.nc',\n",
       " '/home/whyj/Projects/LubriSens/Data/Felikson2021/netcdfs/glacier0040.nc',\n",
       " '/home/whyj/Projects/LubriSens/Data/Felikson2021/netcdfs/glacier0042.nc',\n",
       " '/home/whyj/Projects/LubriSens/Data/Felikson2021/netcdfs/glacier0046.nc',\n",
       " '/home/whyj/Projects/LubriSens/Data/Felikson2021/netcdfs/glacier0047.nc',\n",
       " '/home/whyj/Projects/LubriSens/Data/Felikson2021/netcdfs/glacier0048.nc',\n",
       " '/home/whyj/Projects/LubriSens/Data/Felikson2021/netcdfs/glacier0049.nc',\n",
       " '/home/whyj/Projects/LubriSens/Data/Felikson2021/netcdfs/glacier0050.nc',\n",
       " '/home/whyj/Projects/LubriSens/Data/Felikson2021/netcdfs/glacier0051.nc',\n",
       " '/home/whyj/Projects/LubriSens/Data/Felikson2021/netcdfs/glacier0052.nc',\n",
       " '/home/whyj/Projects/LubriSens/Data/Felikson2021/netcdfs/glacier0053.nc',\n",
       " '/home/whyj/Projects/LubriSens/Data/Felikson2021/netcdfs/glacier0054.nc',\n",
       " '/home/whyj/Projects/LubriSens/Data/Felikson2021/netcdfs/glacier0055.nc',\n",
       " '/home/whyj/Projects/LubriSens/Data/Felikson2021/netcdfs/glacier0056.nc',\n",
       " '/home/whyj/Projects/LubriSens/Data/Felikson2021/netcdfs/glacier0057.nc',\n",
       " '/home/whyj/Projects/LubriSens/Data/Felikson2021/netcdfs/glacier0058.nc',\n",
       " '/home/whyj/Projects/LubriSens/Data/Felikson2021/netcdfs/glacier0059.nc',\n",
       " '/home/whyj/Projects/LubriSens/Data/Felikson2021/netcdfs/glacier0063.nc',\n",
       " '/home/whyj/Projects/LubriSens/Data/Felikson2021/netcdfs/glacier0065.nc',\n",
       " '/home/whyj/Projects/LubriSens/Data/Felikson2021/netcdfs/glacier0067.nc',\n",
       " '/home/whyj/Projects/LubriSens/Data/Felikson2021/netcdfs/glacier0071.nc',\n",
       " '/home/whyj/Projects/LubriSens/Data/Felikson2021/netcdfs/glacier0072.nc',\n",
       " '/home/whyj/Projects/LubriSens/Data/Felikson2021/netcdfs/glacier0073.nc',\n",
       " '/home/whyj/Projects/LubriSens/Data/Felikson2021/netcdfs/glacier0076.nc',\n",
       " '/home/whyj/Projects/LubriSens/Data/Felikson2021/netcdfs/glacier0077.nc',\n",
       " '/home/whyj/Projects/LubriSens/Data/Felikson2021/netcdfs/glacier0083.nc',\n",
       " '/home/whyj/Projects/LubriSens/Data/Felikson2021/netcdfs/glacier0084.nc',\n",
       " '/home/whyj/Projects/LubriSens/Data/Felikson2021/netcdfs/glacier0085.nc',\n",
       " '/home/whyj/Projects/LubriSens/Data/Felikson2021/netcdfs/glacier0088.nc',\n",
       " '/home/whyj/Projects/LubriSens/Data/Felikson2021/netcdfs/glacier0098.nc',\n",
       " '/home/whyj/Projects/LubriSens/Data/Felikson2021/netcdfs/glacier0099.nc',\n",
       " '/home/whyj/Projects/LubriSens/Data/Felikson2021/netcdfs/glacier0101.nc',\n",
       " '/home/whyj/Projects/LubriSens/Data/Felikson2021/netcdfs/glacier0102.nc',\n",
       " '/home/whyj/Projects/LubriSens/Data/Felikson2021/netcdfs/glacier0103.nc',\n",
       " '/home/whyj/Projects/LubriSens/Data/Felikson2021/netcdfs/glacier0105.nc',\n",
       " '/home/whyj/Projects/LubriSens/Data/Felikson2021/netcdfs/glacier0106.nc',\n",
       " '/home/whyj/Projects/LubriSens/Data/Felikson2021/netcdfs/glacier0111.nc',\n",
       " '/home/whyj/Projects/LubriSens/Data/Felikson2021/netcdfs/glacier0020.nc',\n",
       " '/home/whyj/Projects/LubriSens/Data/Felikson2021/netcdfs/glacier0043.nc',\n",
       " '/home/whyj/Projects/LubriSens/Data/Felikson2021/netcdfs/glacier0070.nc',\n",
       " '/home/whyj/Projects/LubriSens/Data/Felikson2021/netcdfs/glacier0113.nc',\n",
       " '/home/whyj/Projects/LubriSens/Data/Felikson2021/netcdfs/glacier0207.nc',\n",
       " '/home/whyj/Projects/LubriSens/Data/Felikson2021/netcdfs/glacier0252.nc',\n",
       " '/home/whyj/Projects/LubriSens/Data/Felikson2021/netcdfs/glacier0114.nc',\n",
       " '/home/whyj/Projects/LubriSens/Data/Felikson2021/netcdfs/glacier0115.nc',\n",
       " '/home/whyj/Projects/LubriSens/Data/Felikson2021/netcdfs/glacier0116.nc',\n",
       " '/home/whyj/Projects/LubriSens/Data/Felikson2021/netcdfs/glacier0124.nc',\n",
       " '/home/whyj/Projects/LubriSens/Data/Felikson2021/netcdfs/glacier0127.nc',\n",
       " '/home/whyj/Projects/LubriSens/Data/Felikson2021/netcdfs/glacier0129.nc',\n",
       " '/home/whyj/Projects/LubriSens/Data/Felikson2021/netcdfs/glacier0135.nc',\n",
       " '/home/whyj/Projects/LubriSens/Data/Felikson2021/netcdfs/glacier0152.nc',\n",
       " '/home/whyj/Projects/LubriSens/Data/Felikson2021/netcdfs/glacier0154.nc',\n",
       " '/home/whyj/Projects/LubriSens/Data/Felikson2021/netcdfs/glacier0167.nc',\n",
       " '/home/whyj/Projects/LubriSens/Data/Felikson2021/netcdfs/glacier0168.nc',\n",
       " '/home/whyj/Projects/LubriSens/Data/Felikson2021/netcdfs/glacier0174.nc',\n",
       " '/home/whyj/Projects/LubriSens/Data/Felikson2021/netcdfs/glacier0177.nc',\n",
       " '/home/whyj/Projects/LubriSens/Data/Felikson2021/netcdfs/glacier0181.nc',\n",
       " '/home/whyj/Projects/LubriSens/Data/Felikson2021/netcdfs/glacier0183.nc',\n",
       " '/home/whyj/Projects/LubriSens/Data/Felikson2021/netcdfs/glacier0198.nc',\n",
       " '/home/whyj/Projects/LubriSens/Data/Felikson2021/netcdfs/glacier0202.nc',\n",
       " '/home/whyj/Projects/LubriSens/Data/Felikson2021/netcdfs/glacier0208.nc',\n",
       " '/home/whyj/Projects/LubriSens/Data/Felikson2021/netcdfs/glacier0212.nc',\n",
       " '/home/whyj/Projects/LubriSens/Data/Felikson2021/netcdfs/glacier0213.nc',\n",
       " '/home/whyj/Projects/LubriSens/Data/Felikson2021/netcdfs/glacier0217.nc',\n",
       " '/home/whyj/Projects/LubriSens/Data/Felikson2021/netcdfs/glacier0219.nc',\n",
       " '/home/whyj/Projects/LubriSens/Data/Felikson2021/netcdfs/glacier0224.nc',\n",
       " '/home/whyj/Projects/LubriSens/Data/Felikson2021/netcdfs/glacier0228.nc',\n",
       " '/home/whyj/Projects/LubriSens/Data/Felikson2021/netcdfs/glacier0229.nc',\n",
       " '/home/whyj/Projects/LubriSens/Data/Felikson2021/netcdfs/glacier0233.nc',\n",
       " '/home/whyj/Projects/LubriSens/Data/Felikson2021/netcdfs/glacier0234.nc',\n",
       " '/home/whyj/Projects/LubriSens/Data/Felikson2021/netcdfs/glacier0237.nc',\n",
       " '/home/whyj/Projects/LubriSens/Data/Felikson2021/netcdfs/glacier0238.nc',\n",
       " '/home/whyj/Projects/LubriSens/Data/Felikson2021/netcdfs/glacier0239.nc',\n",
       " '/home/whyj/Projects/LubriSens/Data/Felikson2021/netcdfs/glacier0240.nc',\n",
       " '/home/whyj/Projects/LubriSens/Data/Felikson2021/netcdfs/glacier0242.nc',\n",
       " '/home/whyj/Projects/LubriSens/Data/Felikson2021/netcdfs/glacier0243.nc',\n",
       " '/home/whyj/Projects/LubriSens/Data/Felikson2021/netcdfs/glacier0245.nc',\n",
       " '/home/whyj/Projects/LubriSens/Data/Felikson2021/netcdfs/glacier0263.nc',\n",
       " '/home/whyj/Projects/LubriSens/Data/Felikson2021/netcdfs/glacier0265.nc',\n",
       " '/home/whyj/Projects/LubriSens/Data/Felikson2021/netcdfs/glacier0276.nc',\n",
       " '/home/whyj/Projects/LubriSens/Data/Felikson2021/netcdfs/glacier0277.nc']"
      ]
     },
     "execution_count": 3,
     "metadata": {},
     "output_type": "execute_result"
    }
   ],
   "source": [
    "netcdf_dir = '/home/whyj/Projects/LubriSens/Data/Felikson2021/netcdfs'\n",
    "glaciers = [i for i in glob.glob(netcdf_dir + '/glacier0*.nc')]\n",
    "glaciers"
   ]
  },
  {
   "cell_type": "code",
   "execution_count": 4,
   "id": "lined-kidney",
   "metadata": {},
   "outputs": [],
   "source": [
    "speed_file = '/home/whyj/Projects/LubriSens/Data/ITSLIVE/GRE_G0240_1998_v.tif'\n",
    "speed_data = rasterio.open(speed_file)\n",
    "vdiff_file = '/home/whyj/Projects/LubriSens/Data/ITSLIVE/GRE_G0240_diff-2018-1998_v.tif'\n",
    "vdiff_data = rasterio.open(vdiff_file)\n"
   ]
  },
  {
   "cell_type": "code",
   "execution_count": 5,
   "id": "verbal-danish",
   "metadata": {},
   "outputs": [],
   "source": [
    "results = {}\n",
    "\n",
    "for glacier_file in glaciers:\n",
    "    ds = Dataset(glacier_file, 'r')\n",
    "    flowline_groups, _ = utils.get_flowline_groups(ds)\n",
    "    flowline_group = flowline_groups[3]   # The fourth flowline\n",
    "    \n",
    "    x = flowline_group['x'][:]\n",
    "    y = flowline_group['y'][:]\n",
    "    d = flowline_group['d'][:]\n",
    "    b = flowline_group['geometry']['bed']['BedMachine']['nominal']['h'][:]\n",
    "    s = flowline_group['geometry']['surface']['GIMP']['nominal']['h'][:]\n",
    "    # pe_felikson = flowline_group['Pe']['GIMP']['nominal'][:]\n",
    "    \n",
    "    if d.size < 280:\n",
    "        continue   # skip really short glacier flowline\n",
    "\n",
    "    xytuple = [(m, n) for m, n in zip(x, y)]\n",
    "    sample_gen = speed_data.sample(xytuple)\n",
    "    u = np.array([float(record) for record in sample_gen])\n",
    "    u[u < 0] = np.nan\n",
    "    \n",
    "    if sum(~np.isnan(u)) <= 20:\n",
    "        continue\n",
    "    \n",
    "    valid_u_d = d[~np.isnan(u)]\n",
    "    valid_u_u = u[~np.isnan(u)]\n",
    "    f = interpolate.interp1d(valid_u_d, valid_u_u, bounds_error=False, fill_value=np.nan)\n",
    "    u_holefilled = f(d.data)\n",
    "    \n",
    "    valid_idx = ~np.isnan(u_holefilled)\n",
    "\n",
    "    x_valid = x[valid_idx]\n",
    "    y_valid = y[valid_idx]\n",
    "    d_valid = d[valid_idx]\n",
    "    s_valid = s[valid_idx]\n",
    "    b_valid = b[valid_idx]\n",
    "    u_valid = u_holefilled[valid_idx]\n",
    "\n",
    "    if s_valid.size < 280:\n",
    "        continue   # skip really short glacier flowline\n",
    "    \n",
    "    # the point closet to the divide = 0 km\n",
    "    x_valid = np.flip(x_valid)\n",
    "    y_valid = np.flip(y_valid)\n",
    "    s_valid = np.flip(s_valid)\n",
    "    b_valid = np.flip(b_valid)\n",
    "    u_valid = np.flip(u_valid)\n",
    "    \n",
    "    s_sm, b_sm, u_sm, h_sm, dudx_sm, dhdx_sm, slope_sm, d2hdx2_sm, dalphadx_sm = savgol_smoothing(u_valid, s_valid, b_valid, w=251)\n",
    "    \n",
    "    pe, j0, term1, term2, term3, term4 = pe_corefun(u_sm, h_sm, dudx_sm, dhdx_sm, slope_sm, dalphadx_sm)\n",
    "    \n",
    "   \n",
    "    xytuple2 = [(m, n) for m, n in zip(x_valid, y_valid)]\n",
    "    sample_gen2 = vdiff_data.sample(xytuple2)\n",
    "    udiff = np.array([float(record) for record in sample_gen2])\n",
    "    udiff[udiff < -6000] = np.nan\n",
    "    udiff_sm = my_savgol_filter(udiff, window_length=201, polyorder=1, deriv=0, delta=50, mode='interp')\n",
    "    \n",
    "    if sum(~np.isnan(udiff_sm)) == 0:\n",
    "        continue\n",
    "        \n",
    "    d_valid_km = d_valid / 1000\n",
    "    pe *= 10000\n",
    "    \n",
    "    # flip again so that d = 0 km indicates front and points upstream\n",
    "    pe = np.flip(pe)\n",
    "    j0 = np.flip(j0)\n",
    "    term1 = np.flip(term1)\n",
    "    term2 = np.flip(term2)\n",
    "    term3 = np.flip(term3)\n",
    "    term4 = np.flip(term4)\n",
    "    udiff = np.flip(udiff)\n",
    "    udiff_sm = np.flip(udiff_sm)\n",
    "    \n",
    "    data_group = {'d': d_valid_km, 'pe': pe, 'j0': j0, 'term1': term1, 'term2': term2, 'term3': term3, 'term4': term4,  'udiff': udiff, 'udiff_sm': udiff_sm,}\n",
    "    results[glacier_file.split('/')[-1]] = data_group"
   ]
  },
  {
   "cell_type": "code",
   "execution_count": 6,
   "id": "colored-license",
   "metadata": {},
   "outputs": [
    {
     "data": {
      "text/plain": [
       "array([36.51474762, 36.51474762, 36.51474762, ...,         nan,\n",
       "               nan,         nan])"
      ]
     },
     "execution_count": 6,
     "metadata": {},
     "output_type": "execute_result"
    }
   ],
   "source": [
    "u"
   ]
  },
  {
   "cell_type": "code",
   "execution_count": 7,
   "id": "restricted-demographic",
   "metadata": {},
   "outputs": [
    {
     "name": "stdout",
     "output_type": "stream",
     "text": [
      "(0.21291, 0.12947, 0.37314, 1.0)\n"
     ]
    }
   ],
   "source": [
    "burd = cm.get_cmap('turbo', 51)\n",
    "print(burd(1))"
   ]
  },
  {
   "cell_type": "code",
   "execution_count": 8,
   "id": "medical-exposure",
   "metadata": {},
   "outputs": [
    {
     "data": {
      "application/vnd.jupyter.widget-view+json": {
       "model_id": "e503f8159b8341bbb075be70e8907a31",
       "version_major": 2,
       "version_minor": 0
      },
      "text/plain": [
       "Canvas(toolbar=Toolbar(toolitems=[('Home', 'Reset original view', 'home', 'home'), ('Back', 'Back to previous …"
      ]
     },
     "metadata": {},
     "output_type": "display_data"
    }
   ],
   "source": [
    "# results\n",
    "\n",
    "fig, ax1 = plt.subplots(2, 1, sharex=True)\n",
    "for key in results:\n",
    "    z_max = np.nanmax(results[key]['udiff_sm'])\n",
    "    z_min = np.nanmin(results[key]['udiff_sm'])\n",
    "    z_value = z_max if abs(z_max) > abs(z_min) else z_min\n",
    "    if z_value > 500:\n",
    "        linecolor = 'xkcd:red'\n",
    "    elif z_value < -250: \n",
    "        linecolor = 'xkcd:blue'\n",
    "    else:\n",
    "        linecolor = 'xkcd:green'\n",
    "    # linecolor = (z_value + 500) / 3500\n",
    "    # linecolor = 1 if linecolor > 1 else linecolor \n",
    "    # linecolor = 0 if linecolor < 0 else linecolor \n",
    "    # print(key, linecolor)\n",
    "    ax1[0].plot(results[key]['d'], results[key]['pe'], color=linecolor)    # color=burd(linecolor)\n",
    "    ax1[0].set_ylim([-10, 10])\n",
    "    ax1[1].plot(results[key]['d'], results[key]['udiff_sm'], color=linecolor)\n"
   ]
  },
  {
   "cell_type": "code",
   "execution_count": 9,
   "id": "extra-murray",
   "metadata": {},
   "outputs": [
    {
     "data": {
      "application/vnd.jupyter.widget-view+json": {
       "model_id": "df177c250bbd41a9be636349d74c701c",
       "version_major": 2,
       "version_minor": 0
      },
      "text/plain": [
       "Canvas(toolbar=Toolbar(toolitems=[('Home', 'Reset original view', 'home', 'home'), ('Back', 'Back to previous …"
      ]
     },
     "metadata": {},
     "output_type": "display_data"
    }
   ],
   "source": [
    "fig, ax2 = plt.subplots(1, 1, sharex=True)\n",
    "for key in results:\n",
    "    z_max = np.nanmax(results[key]['udiff_sm'])\n",
    "    z_min = np.nanmin(results[key]['udiff_sm'])\n",
    "    z_value = z_max if abs(z_max) > abs(z_min) else z_min\n",
    "    if z_value > 500:\n",
    "        linecolor = 'xkcd:red'\n",
    "    elif z_value < -250: \n",
    "        linecolor = 'xkcd:blue'\n",
    "    else:\n",
    "        linecolor = 'xkcd:green'\n",
    "    # linecolor = (z_value + 500) / 3500\n",
    "    # linecolor = 1 if linecolor > 1 else linecolor \n",
    "    # linecolor = 0 if linecolor < 0 else linecolor \n",
    "    ax2.plot(results[key]['pe'][:100], results[key]['j0'][:100], color=linecolor)"
   ]
  },
  {
   "cell_type": "code",
   "execution_count": 10,
   "id": "durable-plenty",
   "metadata": {},
   "outputs": [],
   "source": [
    "# for i, j in zip(results['glacier0021.nc']['d'], results['glacier0021.nc']['pe']):\n",
    "#     print(i, j)"
   ]
  },
  {
   "cell_type": "code",
   "execution_count": 16,
   "id": "sought-accent",
   "metadata": {},
   "outputs": [
    {
     "data": {
      "application/vnd.jupyter.widget-view+json": {
       "model_id": "cac4176c33384488bbcf6741882e168e",
       "version_major": 2,
       "version_minor": 0
      },
      "text/plain": [
       "Canvas(toolbar=Toolbar(toolitems=[('Home', 'Reset original view', 'home', 'home'), ('Back', 'Back to previous …"
      ]
     },
     "metadata": {},
     "output_type": "display_data"
    },
    {
     "data": {
      "text/plain": [
       "Text(0.5, 1.0, 'Greenland Ice Sheet \\n Accelerated glaciers = red; Stable glaciers = blue; Decce. gl. = brown')"
      ]
     },
     "execution_count": 16,
     "metadata": {},
     "output_type": "execute_result"
    }
   ],
   "source": [
    "fig, ax3 = plt.subplots(1, 1, sharex=True)\n",
    "for key in results:\n",
    "    z_max = np.nanmax(results[key]['udiff_sm'])\n",
    "    z_min = np.nanmin(results[key]['udiff_sm'])\n",
    "    z_value = z_max if abs(z_max) > abs(z_min) else z_min\n",
    "    if z_value > 500:\n",
    "        linecolor = 'xkcd:red'\n",
    "    elif z_value < -250: \n",
    "        linecolor = 'xkcd:brown'\n",
    "    else:\n",
    "        linecolor = 'xkcd:blue'\n",
    "    # linecolor = (z_value + 500) / 3500\n",
    "    # linecolor = 1 if linecolor > 1 else linecolor \n",
    "    # linecolor = 0 if linecolor < 0 else linecolor \n",
    "    # ax3.plot(results[key]['term1'][:150] + results[key]['term2'][:150] + results[key]['term3'][:150] + results[key]['term4'][:150], results[key]['j0'][:150], color=burd(linecolor))\n",
    "    ax3.plot(results[key]['term1'][:100] + results[key]['term2'][:100] + results[key]['term3'][:100], results[key]['j0'][:100], color=linecolor)\n",
    "\n",
    "    \n",
    "ax3.set_xlabel(r'$\\frac{P_e}{\\ell}$ (1/m)')\n",
    "ax3.set_ylabel(r'$J_0$ (m/yr)')\n",
    "ax3.set_title('Greenland Ice Sheet \\n Accelerated glaciers = red; Stable glaciers = blue; Decce. gl. = brown')"
   ]
  },
  {
   "cell_type": "code",
   "execution_count": 12,
   "id": "employed-ultimate",
   "metadata": {},
   "outputs": [],
   "source": [
    "# fig, ax4 = plt.subplots(1, 1, sharex=True)\n",
    "# for key in results:\n",
    "#     z_max = np.nanmax(results[key]['udiff_sm'])\n",
    "#     z_min = np.nanmin(results[key]['udiff_sm'])\n",
    "#     z_value = z_max if abs(z_max) > abs(z_min) else z_min\n",
    "#     if z_value > 500:\n",
    "#         linecolor = 'xkcd:red'\n",
    "#     elif z_value < -250: \n",
    "#         linecolor = 'xkcd:brown'\n",
    "#     else:\n",
    "#         linecolor = 'xkcd:blue'\n",
    "#     # linecolor = (z_value + 500) / 3500\n",
    "#     # linecolor = 1 if linecolor > 1 else linecolor \n",
    "#     # linecolor = 0 if linecolor < 0 else linecolor \n",
    "#     # ax3.plot(results[key]['term1'][:150] + results[key]['term2'][:150] + results[key]['term3'][:150] + results[key]['term4'][:150], results[key]['j0'][:150], color=burd(linecolor))\n",
    "#     ax4.plot(results[key]['term1'][:100] + results[key]['term2'][:100] + results[key]['term3'][:100], results[key]['j0'][:100], color=linecolor)\n",
    "\n",
    "    \n",
    "# ax4.set_xlabel(r'$\\frac{P_e}{\\ell}$ (1/m)')\n",
    "# ax4.set_ylabel(r'$J_0$ (m/yr)')\n",
    "# ax4.set_title('Greenland Ice Sheet \\n Accelerated glaciers = red; Stable glaciers = blue; Decce. gl. = brown')"
   ]
  },
  {
   "cell_type": "code",
   "execution_count": null,
   "id": "federal-bishop",
   "metadata": {},
   "outputs": [],
   "source": []
  }
 ],
 "metadata": {
  "kernelspec": {
   "display_name": "Python [conda env:.conda-eztrack]",
   "language": "python",
   "name": "conda-env-.conda-eztrack-py"
  },
  "language_info": {
   "codemirror_mode": {
    "name": "ipython",
    "version": 3
   },
   "file_extension": ".py",
   "mimetype": "text/x-python",
   "name": "python",
   "nbconvert_exporter": "python",
   "pygments_lexer": "ipython3",
   "version": "3.9.4"
  }
 },
 "nbformat": 4,
 "nbformat_minor": 5
}
